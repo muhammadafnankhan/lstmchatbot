{
 "cells": [
  {
   "cell_type": "markdown",
   "metadata": {
    "id": "pJAWnBFlkE2w"
   },
   "source": [
    "# LSTM Bot\n",
    "\n",
    "## Project Overview\n",
    "\n",
    "In this project, you will build a chatbot that can converse with you at the command line. The chatbot will use a Sequence to Sequence text generation architecture with an LSTM as it's memory unit. You will also learn to use pretrained word embeddings to improve the performance of the model. At the conclusion of the project, you will be able to show your chatbot to potential employers.\n",
    "\n",
    "Additionally, you have the option to use pretrained word embeddings in your model. We have loaded Brown Embeddings from Gensim in the starter code below. You can compare the performance of your model with pre-trained embeddings against a model without the embeddings.\n",
    "\n",
    "\n",
    "\n",
    "---\n",
    "\n",
    "\n",
    "\n",
    "A sequence to sequence model (Seq2Seq) has two components:\n",
    "- An Encoder consisting of an embedding layer and LSTM unit.\n",
    "- A Decoder consisting of an embedding layer, LSTM unit, and linear output unit.\n",
    "\n",
    "The Seq2Seq model works by accepting an input into the Encoder, passing the hidden state from the Encoder to the Decoder, which the Decoder uses to output a series of token predictions.\n",
    "\n",
    "## Dependencies\n",
    "\n",
    "- Pytorch\n",
    "- Numpy\n",
    "- Pandas\n",
    "- NLTK\n",
    "- Gzip\n",
    "- Gensim\n",
    "\n",
    "\n",
    "Please choose a dataset from the Torchtext website. We recommend looking at the Squad dataset first. Here is a link to the website where you can view your options:\n",
    "\n",
    "- https://pytorch.org/text/stable/datasets.html\n",
    "\n",
    "\n",
    "\n"
   ]
  },
  {
   "cell_type": "code",
   "execution_count": 2,
   "metadata": {},
   "outputs": [],
   "source": [
    "#!pip uninstall torch torchvision torchaudio -y"
   ]
  },
  {
   "cell_type": "code",
   "execution_count": 3,
   "metadata": {},
   "outputs": [],
   "source": [
    "#!pip install torch==1.7.1+cu110 torchvision==0.8.2+cu110 torchaudio==0.7.2 -f https://download.pytorch.org/whl/torch_stable.html"
   ]
  },
  {
   "cell_type": "code",
   "execution_count": 4,
   "metadata": {},
   "outputs": [],
   "source": [
    "#!pip install torch==1.7.1+cu110 torchvision==0.8.2+cu110 torchaudio==0.7.2 -f https://download.pytorch.org/whl/torch_stable.html"
   ]
  },
  {
   "cell_type": "code",
   "execution_count": 5,
   "metadata": {
    "scrolled": false
   },
   "outputs": [
    {
     "name": "stdout",
     "output_type": "stream",
     "text": [
      "Mon Apr 10 22:40:16 2023       \r\n",
      "+-----------------------------------------------------------------------------+\r\n",
      "| NVIDIA-SMI 450.51.06    Driver Version: 450.51.06    CUDA Version: 11.0     |\r\n",
      "|-------------------------------+----------------------+----------------------+\r\n",
      "| GPU  Name        Persistence-M| Bus-Id        Disp.A | Volatile Uncorr. ECC |\r\n",
      "| Fan  Temp  Perf  Pwr:Usage/Cap|         Memory-Usage | GPU-Util  Compute M. |\r\n",
      "|                               |                      |               MIG M. |\r\n",
      "|===============================+======================+======================|\r\n",
      "|   0  Tesla K80           Off  | 00000000:00:04.0 Off |                    0 |\r\n",
      "| N/A   66C    P8    32W / 149W |      0MiB / 11441MiB |      0%      Default |\r\n",
      "|                               |                      |                  N/A |\r\n",
      "+-------------------------------+----------------------+----------------------+\r\n",
      "                                                                               \r\n",
      "+-----------------------------------------------------------------------------+\r\n",
      "| Processes:                                                                  |\r\n",
      "|  GPU   GI   CI        PID   Type   Process name                  GPU Memory |\r\n",
      "|        ID   ID                                                   Usage      |\r\n",
      "|=============================================================================|\r\n",
      "|  No running processes found                                                 |\r\n",
      "+-----------------------------------------------------------------------------+\r\n"
     ]
    }
   ],
   "source": [
    "#!pip install dataloader\n",
    "#from torch.utils.data import Dataset, DataLoader\n",
    "!nvidia-smi"
   ]
  },
  {
   "cell_type": "code",
   "execution_count": 6,
   "metadata": {},
   "outputs": [
    {
     "name": "stdout",
     "output_type": "stream",
     "text": [
      "Name: torch\r\n",
      "Version: 1.7.1+cu110\r\n",
      "Summary: Tensors and Dynamic neural networks in Python with strong GPU acceleration\r\n",
      "Home-page: https://pytorch.org/\r\n",
      "Author: PyTorch Team\r\n",
      "Author-email: packages@pytorch.org\r\n",
      "License: BSD-3\r\n",
      "Location: /root/.local/lib/python3.7/site-packages\r\n",
      "Requires: typing-extensions, numpy\r\n",
      "Required-by: torchvision, torchaudio, torchtext\r\n"
     ]
    }
   ],
   "source": [
    "!pip show torch"
   ]
  },
  {
   "cell_type": "code",
   "execution_count": 7,
   "metadata": {},
   "outputs": [
    {
     "data": {
      "text/plain": [
       "'1.7.1+cu110'"
      ]
     },
     "execution_count": 7,
     "metadata": {},
     "output_type": "execute_result"
    }
   ],
   "source": [
    "import torch;\n",
    "torch.__version__"
   ]
  },
  {
   "cell_type": "code",
   "execution_count": 8,
   "metadata": {},
   "outputs": [],
   "source": [
    "import pandas as pd\n",
    "import json\n",
    "import string"
   ]
  },
  {
   "cell_type": "code",
   "execution_count": 9,
   "metadata": {
    "colab": {
     "base_uri": "https://localhost:8080/"
    },
    "id": "eg81uNTWixbi",
    "outputId": "9c0f9eda-75fb-4526-e9b6-f9a76eeeb007"
   },
   "outputs": [
    {
     "name": "stderr",
     "output_type": "stream",
     "text": [
      "[nltk_data] Downloading package brown to /root/nltk_data...\n",
      "[nltk_data]   Package brown is already up-to-date!\n",
      "[nltk_data] Downloading package punkt to /root/nltk_data...\n",
      "[nltk_data]   Package punkt is already up-to-date!\n"
     ]
    }
   ],
   "source": [
    "import gensim\n",
    "import nltk\n",
    "import numpy as np\n",
    "import pandas as pd\n",
    "import gzip\n",
    "import torch\n",
    "from nltk.corpus import brown\n",
    "from nltk.tokenize import word_tokenize\n",
    "from pandas.io.json import json_normalize \n",
    "from torch.utils.data import TensorDataset, DataLoader\n",
    "\n",
    "nltk.download('brown')\n",
    "nltk.download('punkt')\n",
    "\n",
    "# Output, save, and load brown embeddings\n",
    "\n",
    "model = gensim.models.Word2Vec(brown.sents())\n",
    "model.save('brown.embedding')\n",
    "\n",
    "w2v = gensim.models.Word2Vec.load('brown.embedding')\n",
    "\n",
    "def clean_text(x):\n",
    "    if len(x) > 0:\n",
    "        return x[0][\"text\"]\n",
    "\n",
    "def loadDF(path):\n",
    "    \n",
    "    df = pd.read_json(path) \n",
    "    data = pd.json_normalize(data = df['data'],\n",
    "                            record_path =['paragraphs', 'qas'])\n",
    "    data = data.drop('id', axis=1)\n",
    "    data = data.drop('is_impossible', axis=1)\n",
    "    data = data.drop('plausible_answers', axis=1)\n",
    "    data['answers'] = data['answers'].apply(clean_text)\n",
    "    \n",
    "    return data\n",
    "\n",
    "def tokenize_en(text):\n",
    "    if text != None:\n",
    "        text = text.translate(str.maketrans('', '', string.punctuation))\n",
    "        return [tok.lower().strip() for tok in word_tokenize(text)]\n",
    "    return;\n",
    "\n",
    "#, dev_test\n",
    "def prepare_text(df_train):\n",
    "    \n",
    "    for i,r, in df_train.iterrows():\n",
    "        answerlist = r['answers']\n",
    "        if answerlist != None:\n",
    "            answerlist = [i for i in answerlist if i]\n",
    "            if len(answerlist) == 0:\n",
    "                r['answers'] =  np.NaN\n",
    "                     \n",
    "    df_train = df_train.dropna(axis=0, subset=['answers'])\n",
    "    df_train.reset_index(drop=True)\n",
    "   \n",
    "    \n",
    "    df_train['question_token'] = df_train['question'].apply(tokenize_en)\n",
    "    df_train['answer_token'] = df_train['answers'].apply(tokenize_en) \n",
    "    \n",
    "    #dev_test['question_token'] = dev_test['question'].apply(tokenize_en)\n",
    "    #dev_test['answer_token'] = dev_test['answers'].apply(tokenize_en) \n",
    "    \n",
    "    return df_train #, dev_test\n",
    "\n",
    "\n",
    "\n",
    "def train_test_split(SRC, TRG):\n",
    "    \n",
    "    '''\n",
    "    Input: SRC, our list of questions from the dataset\n",
    "            TRG, our list of responses from the dataset\n",
    "\n",
    "    Output: Training and test datasets for SRC & TRG\n",
    "\n",
    "    '''\n",
    "    \n",
    "    return SRC_train_dataset, SRC_test_dataset, TRG_train_dataset, TRG_test_dataset\n"
   ]
  },
  {
   "cell_type": "code",
   "execution_count": 10,
   "metadata": {},
   "outputs": [],
   "source": [
    "df_train = loadDF('./train-v2.0.json')"
   ]
  },
  {
   "cell_type": "code",
   "execution_count": 11,
   "metadata": {},
   "outputs": [],
   "source": [
    "dev_test = loadDF('./dev-v2.0.json')"
   ]
  },
  {
   "cell_type": "code",
   "execution_count": 12,
   "metadata": {},
   "outputs": [
    {
     "data": {
      "text/html": [
       "<div>\n",
       "<style scoped>\n",
       "    .dataframe tbody tr th:only-of-type {\n",
       "        vertical-align: middle;\n",
       "    }\n",
       "\n",
       "    .dataframe tbody tr th {\n",
       "        vertical-align: top;\n",
       "    }\n",
       "\n",
       "    .dataframe thead th {\n",
       "        text-align: right;\n",
       "    }\n",
       "</style>\n",
       "<table border=\"1\" class=\"dataframe\">\n",
       "  <thead>\n",
       "    <tr style=\"text-align: right;\">\n",
       "      <th></th>\n",
       "      <th>question</th>\n",
       "      <th>answers</th>\n",
       "    </tr>\n",
       "  </thead>\n",
       "  <tbody>\n",
       "    <tr>\n",
       "      <th>0</th>\n",
       "      <td>In what country is Normandy located?</td>\n",
       "      <td>France</td>\n",
       "    </tr>\n",
       "    <tr>\n",
       "      <th>1</th>\n",
       "      <td>When were the Normans in Normandy?</td>\n",
       "      <td>10th and 11th centuries</td>\n",
       "    </tr>\n",
       "    <tr>\n",
       "      <th>2</th>\n",
       "      <td>From which countries did the Norse originate?</td>\n",
       "      <td>Denmark, Iceland and Norway</td>\n",
       "    </tr>\n",
       "    <tr>\n",
       "      <th>3</th>\n",
       "      <td>Who was the Norse leader?</td>\n",
       "      <td>Rollo</td>\n",
       "    </tr>\n",
       "    <tr>\n",
       "      <th>4</th>\n",
       "      <td>What century did the Normans first gain their ...</td>\n",
       "      <td>10th century</td>\n",
       "    </tr>\n",
       "  </tbody>\n",
       "</table>\n",
       "</div>"
      ],
      "text/plain": [
       "                                            question  \\\n",
       "0               In what country is Normandy located?   \n",
       "1                 When were the Normans in Normandy?   \n",
       "2      From which countries did the Norse originate?   \n",
       "3                          Who was the Norse leader?   \n",
       "4  What century did the Normans first gain their ...   \n",
       "\n",
       "                       answers  \n",
       "0                       France  \n",
       "1      10th and 11th centuries  \n",
       "2  Denmark, Iceland and Norway  \n",
       "3                        Rollo  \n",
       "4                 10th century  "
      ]
     },
     "execution_count": 12,
     "metadata": {},
     "output_type": "execute_result"
    }
   ],
   "source": [
    "dev_test.head()"
   ]
  },
  {
   "cell_type": "code",
   "execution_count": 13,
   "metadata": {},
   "outputs": [],
   "source": [
    "#pd.set_option('display.max_rows', None)"
   ]
  },
  {
   "cell_type": "code",
   "execution_count": 14,
   "metadata": {
    "scrolled": true
   },
   "outputs": [
    {
     "data": {
      "text/html": [
       "<div>\n",
       "<style scoped>\n",
       "    .dataframe tbody tr th:only-of-type {\n",
       "        vertical-align: middle;\n",
       "    }\n",
       "\n",
       "    .dataframe tbody tr th {\n",
       "        vertical-align: top;\n",
       "    }\n",
       "\n",
       "    .dataframe thead th {\n",
       "        text-align: right;\n",
       "    }\n",
       "</style>\n",
       "<table border=\"1\" class=\"dataframe\">\n",
       "  <thead>\n",
       "    <tr style=\"text-align: right;\">\n",
       "      <th></th>\n",
       "      <th>question</th>\n",
       "      <th>answers</th>\n",
       "    </tr>\n",
       "  </thead>\n",
       "  <tbody>\n",
       "    <tr>\n",
       "      <th>0</th>\n",
       "      <td>When did Beyonce start becoming popular?</td>\n",
       "      <td>in the late 1990s</td>\n",
       "    </tr>\n",
       "    <tr>\n",
       "      <th>1</th>\n",
       "      <td>What areas did Beyonce compete in when she was...</td>\n",
       "      <td>singing and dancing</td>\n",
       "    </tr>\n",
       "    <tr>\n",
       "      <th>2</th>\n",
       "      <td>When did Beyonce leave Destiny's Child and bec...</td>\n",
       "      <td>2003</td>\n",
       "    </tr>\n",
       "    <tr>\n",
       "      <th>3</th>\n",
       "      <td>In what city and state did Beyonce  grow up?</td>\n",
       "      <td>Houston, Texas</td>\n",
       "    </tr>\n",
       "    <tr>\n",
       "      <th>4</th>\n",
       "      <td>In which decade did Beyonce become famous?</td>\n",
       "      <td>late 1990s</td>\n",
       "    </tr>\n",
       "  </tbody>\n",
       "</table>\n",
       "</div>"
      ],
      "text/plain": [
       "                                            question              answers\n",
       "0           When did Beyonce start becoming popular?    in the late 1990s\n",
       "1  What areas did Beyonce compete in when she was...  singing and dancing\n",
       "2  When did Beyonce leave Destiny's Child and bec...                 2003\n",
       "3      In what city and state did Beyonce  grow up?        Houston, Texas\n",
       "4         In which decade did Beyonce become famous?           late 1990s"
      ]
     },
     "execution_count": 14,
     "metadata": {},
     "output_type": "execute_result"
    }
   ],
   "source": [
    "df_train.head()"
   ]
  },
  {
   "cell_type": "code",
   "execution_count": 15,
   "metadata": {},
   "outputs": [
    {
     "name": "stderr",
     "output_type": "stream",
     "text": [
      "/opt/conda/lib/python3.7/site-packages/ipykernel_launcher.py:58: SettingWithCopyWarning: \n",
      "A value is trying to be set on a copy of a slice from a DataFrame.\n",
      "Try using .loc[row_indexer,col_indexer] = value instead\n",
      "\n",
      "See the caveats in the documentation: https://pandas.pydata.org/pandas-docs/stable/user_guide/indexing.html#returning-a-view-versus-a-copy\n",
      "/opt/conda/lib/python3.7/site-packages/ipykernel_launcher.py:59: SettingWithCopyWarning: \n",
      "A value is trying to be set on a copy of a slice from a DataFrame.\n",
      "Try using .loc[row_indexer,col_indexer] = value instead\n",
      "\n",
      "See the caveats in the documentation: https://pandas.pydata.org/pandas-docs/stable/user_guide/indexing.html#returning-a-view-versus-a-copy\n"
     ]
    }
   ],
   "source": [
    "df_train = prepare_text(df_train)  #,  dev_test"
   ]
  },
  {
   "cell_type": "code",
   "execution_count": 16,
   "metadata": {},
   "outputs": [
    {
     "data": {
      "text/html": [
       "<div>\n",
       "<style scoped>\n",
       "    .dataframe tbody tr th:only-of-type {\n",
       "        vertical-align: middle;\n",
       "    }\n",
       "\n",
       "    .dataframe tbody tr th {\n",
       "        vertical-align: top;\n",
       "    }\n",
       "\n",
       "    .dataframe thead th {\n",
       "        text-align: right;\n",
       "    }\n",
       "</style>\n",
       "<table border=\"1\" class=\"dataframe\">\n",
       "  <thead>\n",
       "    <tr style=\"text-align: right;\">\n",
       "      <th></th>\n",
       "      <th>question</th>\n",
       "      <th>answers</th>\n",
       "      <th>question_token</th>\n",
       "      <th>answer_token</th>\n",
       "    </tr>\n",
       "  </thead>\n",
       "  <tbody>\n",
       "    <tr>\n",
       "      <th>0</th>\n",
       "      <td>When did Beyonce start becoming popular?</td>\n",
       "      <td>in the late 1990s</td>\n",
       "      <td>[when, did, beyonce, start, becoming, popular]</td>\n",
       "      <td>[in, the, late, 1990s]</td>\n",
       "    </tr>\n",
       "    <tr>\n",
       "      <th>1</th>\n",
       "      <td>What areas did Beyonce compete in when she was...</td>\n",
       "      <td>singing and dancing</td>\n",
       "      <td>[what, areas, did, beyonce, compete, in, when,...</td>\n",
       "      <td>[singing, and, dancing]</td>\n",
       "    </tr>\n",
       "    <tr>\n",
       "      <th>2</th>\n",
       "      <td>When did Beyonce leave Destiny's Child and bec...</td>\n",
       "      <td>2003</td>\n",
       "      <td>[when, did, beyonce, leave, destinys, child, a...</td>\n",
       "      <td>[2003]</td>\n",
       "    </tr>\n",
       "    <tr>\n",
       "      <th>3</th>\n",
       "      <td>In what city and state did Beyonce  grow up?</td>\n",
       "      <td>Houston, Texas</td>\n",
       "      <td>[in, what, city, and, state, did, beyonce, gro...</td>\n",
       "      <td>[houston, texas]</td>\n",
       "    </tr>\n",
       "    <tr>\n",
       "      <th>4</th>\n",
       "      <td>In which decade did Beyonce become famous?</td>\n",
       "      <td>late 1990s</td>\n",
       "      <td>[in, which, decade, did, beyonce, become, famous]</td>\n",
       "      <td>[late, 1990s]</td>\n",
       "    </tr>\n",
       "  </tbody>\n",
       "</table>\n",
       "</div>"
      ],
      "text/plain": [
       "                                            question              answers  \\\n",
       "0           When did Beyonce start becoming popular?    in the late 1990s   \n",
       "1  What areas did Beyonce compete in when she was...  singing and dancing   \n",
       "2  When did Beyonce leave Destiny's Child and bec...                 2003   \n",
       "3      In what city and state did Beyonce  grow up?        Houston, Texas   \n",
       "4         In which decade did Beyonce become famous?           late 1990s   \n",
       "\n",
       "                                      question_token             answer_token  \n",
       "0     [when, did, beyonce, start, becoming, popular]   [in, the, late, 1990s]  \n",
       "1  [what, areas, did, beyonce, compete, in, when,...  [singing, and, dancing]  \n",
       "2  [when, did, beyonce, leave, destinys, child, a...                   [2003]  \n",
       "3  [in, what, city, and, state, did, beyonce, gro...         [houston, texas]  \n",
       "4  [in, which, decade, did, beyonce, become, famous]            [late, 1990s]  "
      ]
     },
     "execution_count": 16,
     "metadata": {},
     "output_type": "execute_result"
    }
   ],
   "source": [
    "df_train.head()"
   ]
  },
  {
   "cell_type": "code",
   "execution_count": 17,
   "metadata": {},
   "outputs": [],
   "source": [
    "word2VectorDict = w2v.wv.key_to_index "
   ]
  },
  {
   "cell_type": "code",
   "execution_count": 18,
   "metadata": {},
   "outputs": [],
   "source": [
    "SOS_token = 55000\n",
    "EOS_token = 55001\n",
    "PAD_IDX = 55002\n",
    "\n",
    "class Lang:\n",
    "    def __init__(self, name):\n",
    "        self.name = name\n",
    "        self.word2index = {\"SOS\": 55000, \"EOS\": 55001, \"PAD_IDX\": 55002}\n",
    "        self.word2count = {}\n",
    "        self.index2word = {55000: \"SOS\", 55001: \"EOS\", 55002: \"PAD_IDX\"}\n",
    "        self.n_words = 3  \n",
    "\n",
    "    def addSentence(self, sentence):\n",
    "        for word in sentence.split(' '):\n",
    "            self.addWord(word)\n",
    "            \n",
    "\n",
    "    def addWord(self, word):\n",
    "        if word not in self.word2index:\n",
    "                if word in word2VectorDict:\n",
    "                    indexOfWord = word2VectorDict[word]\n",
    "                    self.word2index[word] = indexOfWord\n",
    "                    self.index2word[indexOfWord] = word\n",
    "                    self.n_words += 1\n",
    "                else:\n",
    "                    self.word2index[word] = self.n_words\n",
    "                    self.index2word[self.n_words] = word\n",
    "                    self.n_words += 1\n",
    "                self.word2count[word] = 1\n",
    "        else:\n",
    "            self.word2count[word] += 1"
   ]
  },
  {
   "cell_type": "code",
   "execution_count": 19,
   "metadata": {},
   "outputs": [],
   "source": [
    "lang = Lang(name='alltokens')\n",
    "Questionlang = Lang(name='allQuestiontokens')\n",
    "Answerlang = Lang(name='allAnswertokens')"
   ]
  },
  {
   "cell_type": "code",
   "execution_count": 20,
   "metadata": {},
   "outputs": [],
   "source": [
    "#df_train.head(5000)"
   ]
  },
  {
   "cell_type": "code",
   "execution_count": 21,
   "metadata": {},
   "outputs": [],
   "source": [
    "#print(df_train.size)\n",
    "df_train = df_train.head(150)\n",
    "#print(df_train.size)"
   ]
  },
  {
   "cell_type": "code",
   "execution_count": 22,
   "metadata": {},
   "outputs": [
    {
     "data": {
      "text/plain": [
       "150"
      ]
     },
     "execution_count": 22,
     "metadata": {},
     "output_type": "execute_result"
    }
   ],
   "source": [
    "len(df_train.index)"
   ]
  },
  {
   "cell_type": "code",
   "execution_count": 23,
   "metadata": {},
   "outputs": [],
   "source": [
    "for i,r, in df_train.iterrows():\n",
    "    text = r['question_token']\n",
    "    if text != None and text != '':\n",
    "        text = [i for i in text if i]\n",
    "        for t in text:\n",
    "            lang.addWord(t)\n",
    "            Questionlang.addWord(t)\n",
    "\n",
    "for i,r, in df_train.iterrows():\n",
    "    text = r['answer_token']\n",
    "    if text != None and text != '':\n",
    "        text = [i for i in text if i]\n",
    "        for t in text:\n",
    "            lang.addWord(t)\n",
    "            Answerlang.addWord(t)"
   ]
  },
  {
   "cell_type": "code",
   "execution_count": 24,
   "metadata": {},
   "outputs": [],
   "source": [
    "#lang.word2index"
   ]
  },
  {
   "cell_type": "code",
   "execution_count": 25,
   "metadata": {},
   "outputs": [],
   "source": [
    "#max(lang.word2count, key=lang.word2count.get)"
   ]
  },
  {
   "cell_type": "code",
   "execution_count": 26,
   "metadata": {},
   "outputs": [
    {
     "data": {
      "text/plain": [
       "\"for i,r, in dev_test.iterrows():\\n    text = r['question_token']\\n    if text != None and text != '':\\n        text = [i for i in text if i]\\n        for t in text:\\n            lang.addWord(t)\\n\\nfor i,r, in dev_test.iterrows():\\n    text = r['answer_token']\\n    if text != None and text != '':\\n        text = [i for i in text if i]\\n        for t in text:\\n            lang.addWord(t)*/\""
      ]
     },
     "execution_count": 26,
     "metadata": {},
     "output_type": "execute_result"
    }
   ],
   "source": [
    "'''for i,r, in dev_test.iterrows():\n",
    "    text = r['question_token']\n",
    "    if text != None and text != '':\n",
    "        text = [i for i in text if i]\n",
    "        for t in text:\n",
    "            lang.addWord(t)\n",
    "\n",
    "for i,r, in dev_test.iterrows():\n",
    "    text = r['answer_token']\n",
    "    if text != None and text != '':\n",
    "        text = [i for i in text if i]\n",
    "        for t in text:\n",
    "            lang.addWord(t)*/'''"
   ]
  },
  {
   "cell_type": "code",
   "execution_count": 27,
   "metadata": {},
   "outputs": [
    {
     "name": "stdout",
     "output_type": "stream",
     "text": [
      "cuda\n"
     ]
    }
   ],
   "source": [
    "import torch\n",
    "device = torch.device(\n",
    "  'cuda' if torch.cuda.is_available() else 'cpu')\n",
    "print(device)"
   ]
  },
  {
   "cell_type": "code",
   "execution_count": 28,
   "metadata": {},
   "outputs": [],
   "source": [
    "max_question_word_count = 10\n",
    "max_answer_word_count = 5"
   ]
  },
  {
   "cell_type": "code",
   "execution_count": 29,
   "metadata": {},
   "outputs": [],
   "source": [
    "def indexesFromSentence(lang, sentencelist):\n",
    "    if sentencelist != None and sentencelist != '':\n",
    "        sentencelist = [i for i in sentencelist if i]\n",
    "        if len(sentencelist) > 0:\n",
    "            return [lang.word2index[word] for word in sentencelist]\n",
    "    return [];\n",
    "\n",
    "def tensorFromSentence(lang, sentence, max_len):\n",
    "        indexes = indexesFromSentence(lang, sentence)\n",
    "        if(len(indexes) > max_len):\n",
    "            indexes = indexes[:max_len]\n",
    "        if(len(indexes) < max_len):\n",
    "            indexes.extend([PAD_IDX]*(max_len-len(indexes)))\n",
    "        indexes.append(EOS_token)\n",
    "        indexes.insert(0, SOS_token)\n",
    "        return torch.tensor(indexes, dtype=torch.long, device= device)#.view(-1, 1)"
   ]
  },
  {
   "cell_type": "code",
   "execution_count": null,
   "metadata": {},
   "outputs": [],
   "source": []
  },
  {
   "cell_type": "code",
   "execution_count": 30,
   "metadata": {},
   "outputs": [],
   "source": [
    "data = []\n",
    "for i, r in df_train.iterrows():\n",
    "    tensor_question_index = tensorFromSentence(lang, r['question_token'], max_question_word_count)\n",
    "    answer_answer_index = tensorFromSentence(lang, r['answer_token'], max_answer_word_count)\n",
    "    data.append((tensor_question_index, answer_answer_index))\n",
    "\n"
   ]
  },
  {
   "cell_type": "code",
   "execution_count": 31,
   "metadata": {},
   "outputs": [],
   "source": [
    "#source_data = [tensorFromSentence(lang, sentencelist) for sentencelist in df_train['question_token']]"
   ]
  },
  {
   "cell_type": "code",
   "execution_count": 32,
   "metadata": {},
   "outputs": [],
   "source": [
    "#target_data = [tensorFromSentence(lang, sentencelist) for sentencelist in df_train['answer_token']]  "
   ]
  },
  {
   "cell_type": "code",
   "execution_count": 33,
   "metadata": {},
   "outputs": [],
   "source": [
    "#dev_source_data = [tensorFromSentence(lang, sentencelist) for sentencelist in dev_test['question_token']]"
   ]
  },
  {
   "cell_type": "code",
   "execution_count": 34,
   "metadata": {},
   "outputs": [],
   "source": [
    "#dev_target_data = [tensorFromSentence(lang, sentencelist) for sentencelist in dev_test['answer_token']]  "
   ]
  },
  {
   "cell_type": "code",
   "execution_count": 35,
   "metadata": {},
   "outputs": [],
   "source": [
    "#source_list = source_data[0:150]\n",
    "#target_list = target_data[0:150]"
   ]
  },
  {
   "cell_type": "code",
   "execution_count": 36,
   "metadata": {},
   "outputs": [
    {
     "name": "stdout",
     "output_type": "stream",
     "text": [
      "55002\n",
      "55000\n",
      "55001\n"
     ]
    }
   ],
   "source": [
    "PAD_IDX = lang.word2index['PAD_IDX']\n",
    "SOS_IDX = lang.word2index['SOS']\n",
    "EOS_IDX = lang.word2index['EOS']\n",
    "print(PAD_IDX)\n",
    "print(SOS_IDX)\n",
    "print(EOS_IDX)"
   ]
  },
  {
   "cell_type": "code",
   "execution_count": 37,
   "metadata": {},
   "outputs": [
    {
     "data": {
      "text/plain": [
       "(tensor([55000,    71,   105,     5,   728,  2011,  1141, 55002, 55002, 55002,\n",
       "         55002, 55001], device='cuda:0'),\n",
       " tensor([55000,     7,     0,   564,   404, 55002, 55001], device='cuda:0'))"
      ]
     },
     "execution_count": 37,
     "metadata": {},
     "output_type": "execute_result"
    }
   ],
   "source": [
    "data[0]"
   ]
  },
  {
   "cell_type": "code",
   "execution_count": 38,
   "metadata": {},
   "outputs": [],
   "source": [
    "train_iter = DataLoader(data, batch_size=10,\n",
    "                        shuffle=False)"
   ]
  },
  {
   "cell_type": "code",
   "execution_count": 39,
   "metadata": {},
   "outputs": [
    {
     "name": "stdout",
     "output_type": "stream",
     "text": [
      "tensor([[55000,    71,   105,     5,   728,  2011,  1141, 55002, 55002, 55002,\n",
      "         55002, 55001],\n",
      "        [55000,    79,   420,   105,     5,  4477,     7,    71,    58,    10,\n",
      "          1025, 55001],\n",
      "        [55000,    71,   105,     5,   485,    18,   461,     4,   270,     6,\n",
      "         10641, 55001],\n",
      "        [55000,     7,    79,   375,     4,   182,   105,     5,  1774,    61,\n",
      "         55002, 55001],\n",
      "        [55000,     7,    35,  2422,   105,     5,   270,  1232, 55002, 55002,\n",
      "         55002, 55001],\n",
      "        [55000,     7,    79,    31,   248,    10,    58,     0,   825,  9817,\n",
      "         55002, 55001],\n",
      "        [55000,    79, 11822,    97,    40,     6,    38,   400,  2053, 55002,\n",
      "         55002, 55001],\n",
      "        [55000,    53,  3109,     0,    18,   461,   248, 55002, 55002, 55002,\n",
      "         55002, 55001],\n",
      "        [55000,    71,   105,    43,  1077,     5,  5979, 55002, 55002, 55002,\n",
      "         55002, 55001],\n",
      "        [55000,    79,  1044,   105,    43,    33,     7,    18,   461, 55002,\n",
      "         55002, 55001]], device='cuda:0')\n",
      "tensor([[55000,    79,    10,     0,    87, 11822,    43,  4046,    17,     6,\n",
      "         10641, 55001],\n",
      "        [55000,    71,   105,    43,  3132,    53,     7,   453, 55002, 55002,\n",
      "         55002, 55001],\n",
      "        [55000,   159,   112,    57,  5808,   105,    43,  2057,    11,    40,\n",
      "            87, 55001],\n",
      "        [55000,    79,    10,    61,  1044,     7,    18,   461, 55002, 55002,\n",
      "         55002, 55001],\n",
      "        [55000,    79,    10,     0,   335,     3,    61,    87, 10641, 11822,\n",
      "         55002, 55001],\n",
      "        [55000,   123,    40,   292, 10641, 11822,    79,    74,  3716,  5256,\n",
      "           105, 55001],\n",
      "        [55000,    35,  2053,   105,     5,  5399, 55002, 55002, 55002, 55002,\n",
      "         55002, 55001],\n",
      "        [55000,     5,   231,     0,   770,    11,    73,   159,   112,   105,\n",
      "             5, 55001],\n",
      "        [55000,    11,    79,  3765,   105,     5,  1465,    40,    87,  4210,\n",
      "          7762, 55001],\n",
      "        [55000,    71,   105,     5,   172,     6,    80,     7,    40,  1637,\n",
      "             4, 55001]], device='cuda:0')\n",
      "tensor([[55000,    35, 11822,    10,    84,     7,  1490,    30,    40,  1301,\n",
      "           135, 55001],\n",
      "        [55000,   123,    79,  3765,    89,    90,    91,   105,     5,  2131,\n",
      "            93, 55001],\n",
      "        [55000,    71,   105,    18,   461,   236,    47,   248,   595, 55002,\n",
      "         55002, 55001],\n",
      "        [55000,    79,    10,     0,   335,     3,    61,   292, 10641, 11822,\n",
      "         55002, 55001],\n",
      "        [55000,    79,    10,    61,    87,  2184,   418,     7,   100, 55002,\n",
      "         55002, 55001],\n",
      "        [55000,    53,     9,    43,  1074,     5, 55002, 55002, 55002, 55002,\n",
      "         55002, 55001],\n",
      "        [55000,    79,     9,     0,   335,     3,    61,   103, 55002, 55002,\n",
      "         55002, 55001],\n",
      "        [55000,     7,    40,   505,    79,    29,    80, 12311,  1052,     7,\n",
      "            65, 55001],\n",
      "        [55000,    77,  3453,  1345,    40,    41,     3,     0,    99,  1424,\n",
      "            79, 55001],\n",
      "        [55000,    35,  3453,  1693,    40,     0,    99,  1786,   442,  4474,\n",
      "         55002, 55001]], device='cuda:0')\n",
      "tensor([[55000,     7,    35,  2422,   105,     0,  3739,   627,  2439,     3,\n",
      "           125, 55001],\n",
      "        [55000,    79,  3453,  9525,     5,    17,     0,    99,  1802,  2352,\n",
      "          4474, 55001],\n",
      "        [55000,   159,   105,     5,  2726,   835,    17,     6,   135, 55002,\n",
      "         55002, 55001],\n",
      "        [55000,     7,    35,   109,   105,    77,   462,     5,     7,     0,\n",
      "          1424, 55001],\n",
      "        [55000,   159,   112,  1287,    51,     5,  2402,     7,    40,  3474,\n",
      "           153, 55001],\n",
      "        [55000,   159,   112,  1287,   105,    43,  2803,    17,   201,     3,\n",
      "            18, 55001],\n",
      "        [55000,   123,  1382,    18,   461,   159,   112,  1287,   105,    43,\n",
      "          3132, 55001],\n",
      "        [55000,   159,   112,    57,  5808,    51,    43,  1604, 55002, 55002,\n",
      "         55002, 55001],\n",
      "        [55000,    79,  3453,  1345,    43,    17,     0,    99,  1802,  2352,\n",
      "          4474, 55001],\n",
      "        [55000,   151,  2800,   153,   103,  3793,    15,    40,     7,    79,\n",
      "          2559, 55001]], device='cuda:0')\n",
      "tensor([[55000,   120,   105,     5,   141,    40,   335,    30, 55002, 55002,\n",
      "         55002, 55001],\n",
      "        [55000,    79,  1097,    10,   151,   634, 55002, 55002, 55002, 55002,\n",
      "         55002, 55001],\n",
      "        [55000,   151,  2290,   190,  1440,     7,    79,  1080, 55002, 55002,\n",
      "         55002, 55001],\n",
      "        [55000,   151,   634,   809,    17,     6,   830,  1384,    11,    79,\n",
      "           440, 55001],\n",
      "        [55000,   151,   516,   809,     7,    79,   627, 55002, 55002, 55002,\n",
      "         55002, 55001],\n",
      "        [55000,    79,  2800,  3276,     3,     5,   103,   756,     7,    18,\n",
      "           461, 55001],\n",
      "        [55000,     5,     9,     6,   173,     3,    79,   174,  1592, 55002,\n",
      "         55002, 55001],\n",
      "        [55000,    79,   440,   105,    61,   634,   135,    11,    71,    58,\n",
      "            10, 55001],\n",
      "        [55000,    79,   105,    61,   516,   130,    71,    43,    10,     6,\n",
      "           461, 55001],\n",
      "        [55000,    79,     9,     0,   335,     3,    61,  2800,  3276, 55002,\n",
      "         55002, 55001]], device='cuda:0')\n",
      "tensor([[55000,    43,     9,     6,   176,     3,    35,   177,  1592, 55002,\n",
      "         55002, 55001],\n",
      "        [55000,    43,    10,  1086,     7,    79,  1080, 55002, 55002, 55002,\n",
      "         55002, 55001],\n",
      "        [55000,    79,   477,   105,     5,   166,     5,   226,     7, 55002,\n",
      "         55002, 55001],\n",
      "        [55000,    53,    10,     0,    87,   587,     5,  2084,   151,  2578,\n",
      "          1494, 55001],\n",
      "        [55000,     5,   548,     5,    35,   477,   123,    58,   198,    40,\n",
      "            87, 55001],\n",
      "        [55000,    35,     3,    40,  1748,  1507,   151,  1386,  2810, 55002,\n",
      "         55002, 55001],\n",
      "        [55000,   193,    35,   433,    10,     5,     6,   776,     4,  9343,\n",
      "             7, 55001],\n",
      "        [55000,    79,   490,     3,   226,    10,   199,  6211,   226, 55002,\n",
      "         55002, 55001],\n",
      "        [55000,    35,  2007,   105,     5,  3951,     5,  2057,     6,  2041,\n",
      "            26, 55001],\n",
      "        [55000,    79,   375,    10,    61,  6211,   226,  1766,     7, 55002,\n",
      "         55002, 55001]], device='cuda:0')\n",
      "tensor([[55000,    79,    10,     0,   335,     3,    61,    87,  1328, 10164,\n",
      "         55002, 55001],\n",
      "        [55000,   159,   176,    10,    43,    71,    58,  1604,     6,   226,\n",
      "          2810, 55001],\n",
      "        [55000,    79,   197,   105,    43,  3951,     7,    11,    83,   109,\n",
      "         55002, 55001],\n",
      "        [55000,    53,   721,     5,   188,   151,   248,     7,  6167,  1708,\n",
      "             0, 55001],\n",
      "        [55000,     7,   216,    53,   721,     5,  5147,     0,   741,  2578,\n",
      "           248, 55001],\n",
      "        [55000,    53,    10,     0,    87,   770,  5299,     5,   250,     0,\n",
      "           741, 55001],\n",
      "        [55000,    53,   388,     5,     5,   223,     4,  1407,    40,   248,\n",
      "             7, 55001],\n",
      "        [55000,     7,    79,   153,   105,   151,   634,  7282,    19,   418,\n",
      "             5, 55001],\n",
      "        [55000,    79,   281,   770,   440,  2654,   151,   828,    87, 11822,\n",
      "         55002, 55001],\n",
      "        [55000,    79,   770,   440,    87,  3089,   151,   248,     4,   276,\n",
      "           550, 55001]], device='cuda:0')\n",
      "tensor([[55000,    26,    79,   447,   105,     5,   695,   234,   235, 55002,\n",
      "         55002, 55001],\n",
      "        [55000,   159,   176,    10,    43,    71,    58,   801,   234,   237,\n",
      "         55002, 55001],\n",
      "        [55000,    79,    10,     0,   335,     3,     0,    87,   248,    43,\n",
      "            10, 55001],\n",
      "        [55000,    53,   826,   741,   239,     7,  6167,  1708, 55002, 55002,\n",
      "         55002, 55001],\n",
      "        [55000,    71,   105,    43,  1340,     5,  5147,     0,   459,   248,\n",
      "         55002, 55001],\n",
      "        [55000,    53,  3089,     0,   459,   248,    20,   243,   720,   216,\n",
      "         55002, 55001],\n",
      "        [55000,    35,  1159, 10502,    18,   247,    87,   427,   570, 55002,\n",
      "         55002, 55001],\n",
      "        [55000,    11,    35,  2007,   105,    18,   461,   172,   190,     0,\n",
      "            57, 55001],\n",
      "        [55000,    53,   105,     5,   770,    15,    11,     0,  3765,     0,\n",
      "           291, 55001],\n",
      "        [55000,   151,   248,  1149,    47,   335,     5,    18,   461,     7,\n",
      "            79, 55001]], device='cuda:0')\n",
      "tensor([[55000,     0,   335,    18,   461,    10,   912,    20,     6,  5809,\n",
      "             7, 55001],\n",
      "        [55000,  6595,  2007,  4516,    77,    10, 10502,    20,    79,  3695,\n",
      "           475, 55001],\n",
      "        [55000,    79,  2007,  1604,   291,    31,   856,     7,     0, 15090,\n",
      "          1225, 55001],\n",
      "        [55000,    79,  9817,   105,     5,   770,     6,  2007,    15,    11,\n",
      "             0, 55001],\n",
      "        [55000,   120,   105,    18,   461,   141,    47,   335,    30, 55002,\n",
      "         55002, 55001],\n",
      "        [55000,    18,   461,  2007,  4516,    77,    10,  1153,     7,    35,\n",
      "          3681, 55001],\n",
      "        [55000,    79,    10,    18,   247,    87,   427,  2007,   950, 55002,\n",
      "         55002, 55001],\n",
      "        [55000,    71,   105,    18,   461,  3132,    47,   292, 11822, 55002,\n",
      "         55002, 55001],\n",
      "        [55000,    53,   105,    43,  3951,     6,   270,    15,    11,     0,\n",
      "           291, 55001],\n",
      "        [55000,    79,  2740,  1235,   707,   105,     5,   166,   110, 55002,\n",
      "         55002, 55001]], device='cuda:0')\n",
      "tensor([[55000,    79,  1365,   276,   123,    58,    10,  4176,  6655, 55002,\n",
      "         55002, 55001],\n",
      "        [55000,    53,  2101,     5,   110,    40,  4533, 55002, 55002, 55002,\n",
      "         55002, 55001],\n",
      "        [55000,    79,  1365,  1212,   151,  4533, 55002, 55002, 55002, 55002,\n",
      "         55002, 55001],\n",
      "        [55000,   159,   143,    10,     5,  8285, 55002, 55002, 55002, 55002,\n",
      "         55002, 55001],\n",
      "        [55000,    53,  1663,     5,  1122,    40,  4533,     0,    99, 55002,\n",
      "         55002, 55001],\n",
      "        [55000,    53,  2713,   287,     4,   237,     7,    18,   461, 55002,\n",
      "         55002, 55001],\n",
      "        [55000,    53,    10, 10859,    11,   287,     4,   237,  1382,    18,\n",
      "           461, 55001],\n",
      "        [55000,    53,  1663,    43,  4081,    40,  4533,   206,     0,   109,\n",
      "           471, 55001],\n",
      "        [55000,    35,  7617,   776,    10,  1474,    30,    18,   461, 55002,\n",
      "         55002, 55001],\n",
      "        [55000,   295,  8760, 10502,    35,   570,    30,     0,  2559,   313,\n",
      "         55002, 55001]], device='cuda:0')\n",
      "tensor([[55000,   159,   112,   737,   105,    47,   570,  1671,   541,   201,\n",
      "           193, 55001],\n",
      "        [55000,    11,    79,  3658,   105,     5,   484,     6,   427,  3765,\n",
      "          1044, 55001],\n",
      "        [55000,    47,   577, 11822,   305,  2402,   159,   112,   206,    68,\n",
      "            87, 55001],\n",
      "        [55000,    79,   308,  3546,   543,     0,  1066,  3995,   313,     7,\n",
      "             0, 55001],\n",
      "        [55000,    79, 11822,  1212,     6,   315,     5,    21,  3412,     7,\n",
      "           318, 55001],\n",
      "        [55000,  1671,   541,   201,   193,    10,    20,    35, 15110,  3681,\n",
      "           268, 55001],\n",
      "        [55000,    35,  1159,   105,    43,  6167,     7,   318,    15,   320,\n",
      "           321, 55001],\n",
      "        [55000,    79,    10,     0,   335,     3,  4616,   247,   577, 11822,\n",
      "         55002, 55001],\n",
      "        [55000,    53,  3412,     6,   315,    90,   305, 55002, 55002, 55002,\n",
      "         55002, 55001],\n",
      "        [55000,    71,   105,    18,   461,  5600,    47,    80, 55002, 55002,\n",
      "         55002, 55001]], device='cuda:0')\n",
      "tensor([[55000,    53,   105,     5,  6167,    15,     7,     0,  3765,   325,\n",
      "          1644, 55001],\n",
      "        [55000,    35,   180,   684,   105,   151,  2007,   135,    16,    55,\n",
      "          2208, 55001],\n",
      "        [55000,     5,   335,    15,   336,   337,   338,     7,    35,  1159,\n",
      "         55002, 55001],\n",
      "        [55000,    53,   105,     5,   770,     0,   825,   570,    15,     7,\n",
      "             0, 55001],\n",
      "        [55000,    35,    74,  2007,    30,     0,   268,   105,   233,     7,\n",
      "             0, 55001],\n",
      "        [55000,    79,  1159,   105,     5,   908,     7,    15,   344,   345,\n",
      "         55002, 55001],\n",
      "        [55000,    79,   281,   572,   105,     0,  3765,   327,  4134, 55002,\n",
      "         55002, 55001],\n",
      "        [55000,    79,   348,     3,  3765,   105,     5,  6167,     7,    15,\n",
      "           336, 55001],\n",
      "        [55000,    79,  2007,    10,     0,   825,   570,    30,     0,  3681,\n",
      "           475, 55001],\n",
      "        [55000,   159,   105,     0,  4048,   540,     0,  3765,     0,  1757,\n",
      "         12739, 55001]], device='cuda:0')\n",
      "tensor([[55000,    79,  1159,   105,    43,  6167,     7,    15,   344,   345,\n",
      "             7, 55001],\n",
      "        [55000,    79,    10,    61,   903,   238,     7,   325,  1644,     7,\n",
      "           327, 55001],\n",
      "        [55000,    35,  2007,   105,    43,  3132,    17,     0,   825,   570,\n",
      "            11, 55001],\n",
      "        [55000,    79,  1386,  3084,   105,    43,  6167,     7,   290,    15,\n",
      "           336, 55001],\n",
      "        [55000,    79,  2007,   105,    43,  3132,    17,     0,   825,   570,\n",
      "            30, 55001],\n",
      "        [55000,    79,    10,     0,  1806,   151,    87, 10641,  3739,  1811,\n",
      "             7, 55001],\n",
      "        [55000,   151,    87, 11822,    24,   835,    10,   238,    79, 55002,\n",
      "         55002, 55001],\n",
      "        [55000,   159,   112,    51,    53,     7,   453,   364,    38,   205,\n",
      "            68, 55001],\n",
      "        [55000,   151,    87,   200,    41,  2007,    10,    35,  2007, 55002,\n",
      "         55002, 55001],\n",
      "        [55000,   159,   112,   483,   407,   368,   161,    30,    40,    87,\n",
      "         11822, 55001]], device='cuda:0')\n",
      "tensor([[55000,   151,    87, 10641, 11822,     7,     0,   150,    15,    79,\n",
      "          2053, 55001],\n",
      "        [55000,    79, 10641, 11822,   105,     5,  3132,     7,   357, 55002,\n",
      "         55002, 55001],\n",
      "        [55000,     0, 11822,    53,     7,   453,  1811,    79,  2045,    20,\n",
      "             0, 55001],\n",
      "        [55000,     0,  1872,   193,   141,     5,    43,    10,  2654,    15,\n",
      "            35, 55001],\n",
      "        [55000,    35,  2053,    10,  1970,    15,    61, 14126, 10641,  3739,\n",
      "         55002, 55001],\n",
      "        [55000,    71,   105,    43,  3132,    40,    87, 10641, 11822, 55002,\n",
      "         55002, 55001],\n",
      "        [55000,    79,     9,     0,   825,   570,    20,    61,    87, 11822,\n",
      "         55002, 55001],\n",
      "        [55000,    53,  1663,    43,  5967,     6,    57,  2868,    11,   291,\n",
      "            31, 55001],\n",
      "        [55000,   159,   112,  5808,   105,    43,  2057,    26,     0,   380,\n",
      "            73, 55001],\n",
      "        [55000,    18,   247,   667, 11822,    10,  1345,    79, 55002, 55002,\n",
      "         55002, 55001]], device='cuda:0')\n",
      "tensor([[55000,    18,   461,   199,     6,  6167,    20,     0,   383,  1140,\n",
      "             3, 55001],\n",
      "        [55000,     7,    79,   153,   105,     5, 14612,    20,    40,    53,\n",
      "             7, 55001],\n",
      "        [55000,    79,    10,     0,   335,     3,     0,   667, 11822,     3,\n",
      "            18, 55001],\n",
      "        [55000,    16,    10,  1238,     8,    18,   461,    45,   391,     7,\n",
      "            79, 55001],\n",
      "        [55000,    71,   105,    18,   461,   141,    47,  6167,    20,     0,\n",
      "           383, 55001],\n",
      "        [55000,    79,    10,     0,   335,     3,    61,   392,   728,     8,\n",
      "           499, 55001],\n",
      "        [55000,    53,   105,    43,  2748,    15,    11,     0,   395,   396,\n",
      "            87, 55001],\n",
      "        [55000,    79,   427,  1365,   105,    43,  3712,    26,    20,   398,\n",
      "           189, 55001],\n",
      "        [55000,    79,     9,     0,   335,     3,     0,   667,  3892, 11822,\n",
      "            30, 55001],\n",
      "        [55000,   159,   112,   402,   105,     5,  2803,     7,     0,    87,\n",
      "           383, 55001]], device='cuda:0')\n"
     ]
    }
   ],
   "source": [
    "for i, (x, y) in enumerate(train_iter):\n",
    "    print(x.squeeze(0))"
   ]
  },
  {
   "cell_type": "code",
   "execution_count": 40,
   "metadata": {},
   "outputs": [],
   "source": [
    "import torch.nn as nn\n",
    "import torch.optim as optim\n",
    "\n",
    "class Encoder(nn.Module):\n",
    "    def __init__(self, input_dim, emb_dim, hid_dim, n_layers, dropout):\n",
    "        super().__init__()\n",
    "        \n",
    "        self.hid_dim = hid_dim\n",
    "        self.n_layers = n_layers\n",
    "        \n",
    "        self.embedding = nn.Embedding(input_dim, emb_dim)\n",
    "        \n",
    "        self.rnn = nn.LSTM(emb_dim, hid_dim, n_layers, dropout = dropout)\n",
    "        \n",
    "        self.dropout = nn.Dropout(dropout)\n",
    "        \n",
    "    def forward(self, src):\n",
    "        \n",
    "        #src = [src len, batch size]\n",
    "        \n",
    "        embedded = self.dropout(self.embedding(src))\n",
    "        \n",
    "        #embedded = [src len, batch size, emb dim]\n",
    "        \n",
    "        outputs, (hidden, cell) = self.rnn(embedded)\n",
    "        \n",
    "        #outputs = [src len, batch size, hid dim * n directions]\n",
    "        #hidden = [n layers * n directions, batch size, hid dim]\n",
    "        #cell = [n layers * n directions, batch size, hid dim]\n",
    "        \n",
    "        #outputs are always from the top hidden layer\n",
    "        \n",
    "        return hidden, cell"
   ]
  },
  {
   "cell_type": "code",
   "execution_count": 41,
   "metadata": {
    "id": "oQLTP2Wmi1eB"
   },
   "outputs": [],
   "source": [
    "class Decoder(nn.Module):\n",
    "    def __init__(self, output_dim, emb_dim, hid_dim, n_layers, dropout):\n",
    "        super().__init__()\n",
    "        \n",
    "        self.output_dim = output_dim\n",
    "        self.hid_dim = hid_dim\n",
    "        self.n_layers = n_layers\n",
    "        \n",
    "        self.embedding = nn.Embedding(output_dim, emb_dim)\n",
    "        \n",
    "        self.rnn = nn.LSTM(emb_dim, hid_dim, n_layers, dropout = dropout)\n",
    "        \n",
    "        self.fc_out = nn.Linear(hid_dim, output_dim)\n",
    "        \n",
    "        self.dropout = nn.Dropout(dropout)\n",
    "        \n",
    "    def forward(self, input, hidden, cell):\n",
    "        \n",
    "        #input = [batch size]\n",
    "        #hidden = [n layers * n directions, batch size, hid dim]\n",
    "        #cell = [n layers * n directions, batch size, hid dim]\n",
    "        \n",
    "        #n directions in the decoder will both always be 1, therefore:\n",
    "        #hidden = [n layers, batch size, hid dim]\n",
    "        #context = [n layers, batch size, hid dim]\n",
    "        \n",
    "        input = input.unsqueeze(0)\n",
    "        \n",
    "        #input = [1, batch size]\n",
    "        \n",
    "        embedded = self.dropout(self.embedding(input))\n",
    "        \n",
    "        #embedded = [1, batch size, emb dim]\n",
    "                \n",
    "        output, (hidden, cell) = self.rnn(embedded, (hidden, cell))\n",
    "        \n",
    "        #output = [seq len, batch size, hid dim * n directions]\n",
    "        #hidden = [n layers * n directions, batch size, hid dim]\n",
    "        #cell = [n layers * n directions, batch size, hid dim]\n",
    "        \n",
    "        #seq len and n directions will always be 1 in the decoder, therefore:\n",
    "        #output = [1, batch size, hid dim]\n",
    "        #hidden = [n layers, batch size, hid dim]\n",
    "        #cell = [n layers, batch size, hid dim]\n",
    "        \n",
    "        prediction = self.fc_out(output.squeeze(0))\n",
    "        \n",
    "        #prediction = [batch size, output dim]\n",
    "        \n",
    "        return prediction, hidden, cell"
   ]
  },
  {
   "cell_type": "code",
   "execution_count": 42,
   "metadata": {},
   "outputs": [],
   "source": [
    "class Seq2Seq(nn.Module):\n",
    "    def __init__(self, encoder, decoder, device):\n",
    "        super().__init__()\n",
    "        \n",
    "        self.encoder = encoder\n",
    "        self.decoder = decoder\n",
    "        self.device = device\n",
    "        \n",
    "        assert encoder.hid_dim == decoder.hid_dim, \\\n",
    "            \"Hidden dimensions of encoder and decoder must be equal!\"\n",
    "        assert encoder.n_layers == decoder.n_layers, \\\n",
    "            \"Encoder and decoder must have equal number of layers!\"\n",
    "        \n",
    "    def forward(self, src, trg, teacher_forcing_ratio = 0.5):\n",
    "        \n",
    "        #src = [src len, batch size]\n",
    "        #trg = [trg len, batch size]\n",
    "        #teacher_forcing_ratio is probability to use teacher forcing\n",
    "        #e.g. if teacher_forcing_ratio is 0.75 we use ground-truth inputs 75% of the time\n",
    "        \n",
    "        batch_size = trg.shape[1]\n",
    "        trg_len = trg.shape[0]\n",
    "        trg_vocab_size = self.decoder.output_dim\n",
    "        \n",
    "        #tensor to store decoder outputs\n",
    "        outputs = torch.zeros(trg_len, batch_size, trg_vocab_size).to(self.device)\n",
    "        \n",
    "        #last hidden state of the encoder is used as the initial hidden state of the decoder\n",
    "        hidden, cell = self.encoder(src)\n",
    "        \n",
    "        #first input to the decoder is the <sos> tokens\n",
    "        sos = trg[0,:]\n",
    "        \n",
    "        for t in range(1, trg_len):\n",
    "            \n",
    "            #insert input token embedding, previous hidden and previous cell states\n",
    "            #receive output tensor (predictions) and new hidden and cell states\n",
    "            output, hidden, cell = self.decoder(sos, hidden, cell)\n",
    "            \n",
    "            #place predictions in a tensor holding predictions for each token\n",
    "            outputs[t] = output\n",
    "            \n",
    "            #decide if we are going to use teacher forcing or not\n",
    "            teacher_force = random.random() < teacher_forcing_ratio\n",
    "            \n",
    "            #get the highest predicted token from our predictions\n",
    "            top1 = output.argmax(1) \n",
    "            \n",
    "            #if teacher forcing, use actual next token as next input\n",
    "            #if not, use predicted token\n",
    "            input = trg[t] if teacher_force else top1\n",
    "        \n",
    "        return outputs"
   ]
  },
  {
   "cell_type": "code",
   "execution_count": 43,
   "metadata": {},
   "outputs": [
    {
     "name": "stdout",
     "output_type": "stream",
     "text": [
      "403\n",
      "403\n",
      "181\n",
      "181\n"
     ]
    }
   ],
   "source": [
    "INPUT_DIM =  len(Questionlang.word2index) #len(SRC.vocab)\n",
    "print(INPUT_DIM)\n",
    "print(Questionlang.n_words)\n",
    "OUTPUT_DIM = len(Answerlang.word2index) #len(TRG.vocab)\n",
    "print(OUTPUT_DIM)\n",
    "print(Answerlang.n_words)"
   ]
  },
  {
   "cell_type": "code",
   "execution_count": 44,
   "metadata": {},
   "outputs": [],
   "source": [
    "INPUT_DIM =  len(Questionlang.word2index) #len(SRC.vocab)\n",
    "OUTPUT_DIM = len(Answerlang.word2index) #len(TRG.vocab)\n",
    "\n",
    "ENC_EMB_DIM = INPUT_DIM\n",
    "DEC_EMB_DIM = OUTPUT_DIM\n",
    "HID_DIM = 512\n",
    "N_LAYERS = 2\n",
    "ENC_DROPOUT = 0.5\n",
    "DEC_DROPOUT = 0.5\n",
    "\n",
    "enc = Encoder(INPUT_DIM, ENC_EMB_DIM, HID_DIM, N_LAYERS, ENC_DROPOUT)\n",
    "dec = Decoder(OUTPUT_DIM, DEC_EMB_DIM, HID_DIM, N_LAYERS, DEC_DROPOUT)\n",
    "\n",
    "model = Seq2Seq(enc, dec, device).to(device)\n",
    "\n",
    "modelSeq2Seq = Seq2Seq(enc, dec, device).to(device)"
   ]
  },
  {
   "cell_type": "code",
   "execution_count": 45,
   "metadata": {},
   "outputs": [],
   "source": [
    "#def init_weights(m):\n",
    "#    for name, param in m.named_parameters():\n",
    "#        nn.init.uniform_(param.data, -0.08, 0.08)\n",
    "        \n",
    "#modelSeq2Seq.apply(init_weights)"
   ]
  },
  {
   "cell_type": "code",
   "execution_count": 46,
   "metadata": {},
   "outputs": [
    {
     "name": "stdout",
     "output_type": "stream",
     "text": [
      "The model has 7,791,895 trainable parameters\n"
     ]
    }
   ],
   "source": [
    "def count_parameters(model):\n",
    "    return sum(p.numel() for p in model.parameters() if p.requires_grad)\n",
    "\n",
    "print(f'The model has {count_parameters(modelSeq2Seq):,} trainable parameters')"
   ]
  },
  {
   "cell_type": "code",
   "execution_count": null,
   "metadata": {},
   "outputs": [],
   "source": []
  },
  {
   "cell_type": "code",
   "execution_count": 47,
   "metadata": {},
   "outputs": [],
   "source": [
    "#TRG_PAD_IDX = TRG.vocab.stoi[TRG.pad_token]\n",
    " #ignore_index = TRG_PAD_IDX"
   ]
  },
  {
   "cell_type": "code",
   "execution_count": 48,
   "metadata": {},
   "outputs": [],
   "source": [
    "optimizer = torch.optim.SGD(modelSeq2Seq.parameters(), lr=0.01)\n",
    "criterion = nn.NLLLoss()"
   ]
  },
  {
   "cell_type": "code",
   "execution_count": null,
   "metadata": {},
   "outputs": [],
   "source": []
  },
  {
   "cell_type": "code",
   "execution_count": 49,
   "metadata": {},
   "outputs": [],
   "source": [
    "def train(model, train_iter, optimizer, criterion, clip):\n",
    "    \n",
    "    #model.to(device)\n",
    "    epoch_loss = 0\n",
    "    \n",
    "    model.train()\n",
    "        \n",
    "    for _, (src, trg) in enumerate(train_iter):\n",
    "        \n",
    "        optimizer.zero_grad()\n",
    "        output = model(src, trg)\n",
    "        output_dim = output.shape[-1]\n",
    "        output = output[1:].view(-1, output_dim)\n",
    "        trg = trg[1:].view(-1)\n",
    "        \n",
    "        loss = criterion(output, trg)\n",
    "        \n",
    "        loss.backward()\n",
    "        \n",
    "        torch.nn.utils.clip_grad_norm_(model.parameters(), clip)    \n",
    "        optimizer.step()\n",
    "        epoch_loss += loss.item()\n",
    "    return epoch_loss / len(iterator)"
   ]
  },
  {
   "cell_type": "code",
   "execution_count": 50,
   "metadata": {},
   "outputs": [],
   "source": [
    "def evaluate(model, train_iter, criterion):\n",
    "    \n",
    "    model.eval()\n",
    "    \n",
    "    epoch_loss = 0\n",
    "    \n",
    "    with torch.no_grad():\n",
    "    \n",
    "        for i, (src, trg) in enumerate(train_iter):\n",
    "\n",
    "            output = model(src, trg, 0) #turn off teacher forcing\n",
    "\n",
    "            #trg = [trg len, batch size]\n",
    "            #output = [trg len, batch size, output dim]\n",
    "\n",
    "            output_dim = output.shape[-1]\n",
    "            \n",
    "            output = output[1:].view(-1, output_dim)\n",
    "            trg = trg[1:].view(-1)\n",
    "\n",
    "            #trg = [(trg len - 1) * batch size]\n",
    "            #output = [(trg len - 1) * batch size, output dim]\n",
    "\n",
    "            loss = criterion(output, trg)\n",
    "            \n",
    "            epoch_loss += loss.item()\n",
    "        \n",
    "    return epoch_loss / len(iterator)"
   ]
  },
  {
   "cell_type": "code",
   "execution_count": 51,
   "metadata": {},
   "outputs": [],
   "source": [
    "def epoch_time(start_time, end_time):\n",
    "    elapsed_time = end_time - start_time\n",
    "    elapsed_mins = int(elapsed_time / 60)\n",
    "    elapsed_secs = int(elapsed_time - (elapsed_mins * 60))\n",
    "    return elapsed_mins, elapsed_secs"
   ]
  },
  {
   "cell_type": "code",
   "execution_count": 52,
   "metadata": {},
   "outputs": [
    {
     "ename": "RuntimeError",
     "evalue": "cuDNN error: CUDNN_STATUS_INTERNAL_ERROR",
     "output_type": "error",
     "traceback": [
      "\u001b[0;31m---------------------------------------------------------------------------\u001b[0m",
      "\u001b[0;31mRuntimeError\u001b[0m                              Traceback (most recent call last)",
      "\u001b[0;32m<ipython-input-52-40639db6fdf3>\u001b[0m in \u001b[0;36m<module>\u001b[0;34m\u001b[0m\n\u001b[1;32m      9\u001b[0m     \u001b[0mstart_time\u001b[0m \u001b[0;34m=\u001b[0m \u001b[0mtime\u001b[0m\u001b[0;34m.\u001b[0m\u001b[0mtime\u001b[0m\u001b[0;34m(\u001b[0m\u001b[0;34m)\u001b[0m\u001b[0;34m\u001b[0m\u001b[0;34m\u001b[0m\u001b[0m\n\u001b[1;32m     10\u001b[0m \u001b[0;34m\u001b[0m\u001b[0m\n\u001b[0;32m---> 11\u001b[0;31m     \u001b[0mtrain_loss\u001b[0m \u001b[0;34m=\u001b[0m \u001b[0mtrain\u001b[0m\u001b[0;34m(\u001b[0m\u001b[0mmodelSeq2Seq\u001b[0m\u001b[0;34m,\u001b[0m \u001b[0mtrain_iter\u001b[0m\u001b[0;34m,\u001b[0m \u001b[0moptimizer\u001b[0m\u001b[0;34m,\u001b[0m \u001b[0mcriterion\u001b[0m\u001b[0;34m,\u001b[0m \u001b[0mCLIP\u001b[0m\u001b[0;34m)\u001b[0m\u001b[0;34m\u001b[0m\u001b[0;34m\u001b[0m\u001b[0m\n\u001b[0m\u001b[1;32m     12\u001b[0m     \u001b[0mvalid_loss\u001b[0m \u001b[0;34m=\u001b[0m \u001b[0mevaluate\u001b[0m\u001b[0;34m(\u001b[0m\u001b[0mmodelSeq2Seq\u001b[0m\u001b[0;34m,\u001b[0m \u001b[0mtrain_iter\u001b[0m\u001b[0;34m,\u001b[0m \u001b[0mcriterion\u001b[0m\u001b[0;34m)\u001b[0m\u001b[0;34m\u001b[0m\u001b[0;34m\u001b[0m\u001b[0m\n\u001b[1;32m     13\u001b[0m \u001b[0;34m\u001b[0m\u001b[0m\n",
      "\u001b[0;32m<ipython-input-49-977d5c0f9432>\u001b[0m in \u001b[0;36mtrain\u001b[0;34m(model, train_iter, optimizer, criterion, clip)\u001b[0m\n\u001b[1;32m      9\u001b[0m \u001b[0;34m\u001b[0m\u001b[0m\n\u001b[1;32m     10\u001b[0m         \u001b[0moptimizer\u001b[0m\u001b[0;34m.\u001b[0m\u001b[0mzero_grad\u001b[0m\u001b[0;34m(\u001b[0m\u001b[0;34m)\u001b[0m\u001b[0;34m\u001b[0m\u001b[0;34m\u001b[0m\u001b[0m\n\u001b[0;32m---> 11\u001b[0;31m         \u001b[0moutput\u001b[0m \u001b[0;34m=\u001b[0m \u001b[0mmodel\u001b[0m\u001b[0;34m(\u001b[0m\u001b[0msrc\u001b[0m\u001b[0;34m,\u001b[0m \u001b[0mtrg\u001b[0m\u001b[0;34m)\u001b[0m\u001b[0;34m\u001b[0m\u001b[0;34m\u001b[0m\u001b[0m\n\u001b[0m\u001b[1;32m     12\u001b[0m         \u001b[0moutput_dim\u001b[0m \u001b[0;34m=\u001b[0m \u001b[0moutput\u001b[0m\u001b[0;34m.\u001b[0m\u001b[0mshape\u001b[0m\u001b[0;34m[\u001b[0m\u001b[0;34m-\u001b[0m\u001b[0;36m1\u001b[0m\u001b[0;34m]\u001b[0m\u001b[0;34m\u001b[0m\u001b[0;34m\u001b[0m\u001b[0m\n\u001b[1;32m     13\u001b[0m         \u001b[0moutput\u001b[0m \u001b[0;34m=\u001b[0m \u001b[0moutput\u001b[0m\u001b[0;34m[\u001b[0m\u001b[0;36m1\u001b[0m\u001b[0;34m:\u001b[0m\u001b[0;34m]\u001b[0m\u001b[0;34m.\u001b[0m\u001b[0mview\u001b[0m\u001b[0;34m(\u001b[0m\u001b[0;34m-\u001b[0m\u001b[0;36m1\u001b[0m\u001b[0;34m,\u001b[0m \u001b[0moutput_dim\u001b[0m\u001b[0;34m)\u001b[0m\u001b[0;34m\u001b[0m\u001b[0;34m\u001b[0m\u001b[0m\n",
      "\u001b[0;32m~/.local/lib/python3.7/site-packages/torch/nn/modules/module.py\u001b[0m in \u001b[0;36m_call_impl\u001b[0;34m(self, *input, **kwargs)\u001b[0m\n\u001b[1;32m    725\u001b[0m             \u001b[0mresult\u001b[0m \u001b[0;34m=\u001b[0m \u001b[0mself\u001b[0m\u001b[0;34m.\u001b[0m\u001b[0m_slow_forward\u001b[0m\u001b[0;34m(\u001b[0m\u001b[0;34m*\u001b[0m\u001b[0minput\u001b[0m\u001b[0;34m,\u001b[0m \u001b[0;34m**\u001b[0m\u001b[0mkwargs\u001b[0m\u001b[0;34m)\u001b[0m\u001b[0;34m\u001b[0m\u001b[0;34m\u001b[0m\u001b[0m\n\u001b[1;32m    726\u001b[0m         \u001b[0;32melse\u001b[0m\u001b[0;34m:\u001b[0m\u001b[0;34m\u001b[0m\u001b[0;34m\u001b[0m\u001b[0m\n\u001b[0;32m--> 727\u001b[0;31m             \u001b[0mresult\u001b[0m \u001b[0;34m=\u001b[0m \u001b[0mself\u001b[0m\u001b[0;34m.\u001b[0m\u001b[0mforward\u001b[0m\u001b[0;34m(\u001b[0m\u001b[0;34m*\u001b[0m\u001b[0minput\u001b[0m\u001b[0;34m,\u001b[0m \u001b[0;34m**\u001b[0m\u001b[0mkwargs\u001b[0m\u001b[0;34m)\u001b[0m\u001b[0;34m\u001b[0m\u001b[0;34m\u001b[0m\u001b[0m\n\u001b[0m\u001b[1;32m    728\u001b[0m         for hook in itertools.chain(\n\u001b[1;32m    729\u001b[0m                 \u001b[0m_global_forward_hooks\u001b[0m\u001b[0;34m.\u001b[0m\u001b[0mvalues\u001b[0m\u001b[0;34m(\u001b[0m\u001b[0;34m)\u001b[0m\u001b[0;34m,\u001b[0m\u001b[0;34m\u001b[0m\u001b[0;34m\u001b[0m\u001b[0m\n",
      "\u001b[0;32m<ipython-input-42-8b34a2dd564c>\u001b[0m in \u001b[0;36mforward\u001b[0;34m(self, src, trg, teacher_forcing_ratio)\u001b[0m\n\u001b[1;32m     27\u001b[0m \u001b[0;34m\u001b[0m\u001b[0m\n\u001b[1;32m     28\u001b[0m         \u001b[0;31m#last hidden state of the encoder is used as the initial hidden state of the decoder\u001b[0m\u001b[0;34m\u001b[0m\u001b[0;34m\u001b[0m\u001b[0;34m\u001b[0m\u001b[0m\n\u001b[0;32m---> 29\u001b[0;31m         \u001b[0mhidden\u001b[0m\u001b[0;34m,\u001b[0m \u001b[0mcell\u001b[0m \u001b[0;34m=\u001b[0m \u001b[0mself\u001b[0m\u001b[0;34m.\u001b[0m\u001b[0mencoder\u001b[0m\u001b[0;34m(\u001b[0m\u001b[0msrc\u001b[0m\u001b[0;34m)\u001b[0m\u001b[0;34m\u001b[0m\u001b[0;34m\u001b[0m\u001b[0m\n\u001b[0m\u001b[1;32m     30\u001b[0m \u001b[0;34m\u001b[0m\u001b[0m\n\u001b[1;32m     31\u001b[0m         \u001b[0;31m#first input to the decoder is the <sos> tokens\u001b[0m\u001b[0;34m\u001b[0m\u001b[0;34m\u001b[0m\u001b[0;34m\u001b[0m\u001b[0m\n",
      "\u001b[0;32m~/.local/lib/python3.7/site-packages/torch/nn/modules/module.py\u001b[0m in \u001b[0;36m_call_impl\u001b[0;34m(self, *input, **kwargs)\u001b[0m\n\u001b[1;32m    725\u001b[0m             \u001b[0mresult\u001b[0m \u001b[0;34m=\u001b[0m \u001b[0mself\u001b[0m\u001b[0;34m.\u001b[0m\u001b[0m_slow_forward\u001b[0m\u001b[0;34m(\u001b[0m\u001b[0;34m*\u001b[0m\u001b[0minput\u001b[0m\u001b[0;34m,\u001b[0m \u001b[0;34m**\u001b[0m\u001b[0mkwargs\u001b[0m\u001b[0;34m)\u001b[0m\u001b[0;34m\u001b[0m\u001b[0;34m\u001b[0m\u001b[0m\n\u001b[1;32m    726\u001b[0m         \u001b[0;32melse\u001b[0m\u001b[0;34m:\u001b[0m\u001b[0;34m\u001b[0m\u001b[0;34m\u001b[0m\u001b[0m\n\u001b[0;32m--> 727\u001b[0;31m             \u001b[0mresult\u001b[0m \u001b[0;34m=\u001b[0m \u001b[0mself\u001b[0m\u001b[0;34m.\u001b[0m\u001b[0mforward\u001b[0m\u001b[0;34m(\u001b[0m\u001b[0;34m*\u001b[0m\u001b[0minput\u001b[0m\u001b[0;34m,\u001b[0m \u001b[0;34m**\u001b[0m\u001b[0mkwargs\u001b[0m\u001b[0;34m)\u001b[0m\u001b[0;34m\u001b[0m\u001b[0;34m\u001b[0m\u001b[0m\n\u001b[0m\u001b[1;32m    728\u001b[0m         for hook in itertools.chain(\n\u001b[1;32m    729\u001b[0m                 \u001b[0m_global_forward_hooks\u001b[0m\u001b[0;34m.\u001b[0m\u001b[0mvalues\u001b[0m\u001b[0;34m(\u001b[0m\u001b[0;34m)\u001b[0m\u001b[0;34m,\u001b[0m\u001b[0;34m\u001b[0m\u001b[0;34m\u001b[0m\u001b[0m\n",
      "\u001b[0;32m<ipython-input-40-ce19c430bcec>\u001b[0m in \u001b[0;36mforward\u001b[0;34m(self, src)\u001b[0m\n\u001b[1;32m     23\u001b[0m         \u001b[0;31m#embedded = [src len, batch size, emb dim]\u001b[0m\u001b[0;34m\u001b[0m\u001b[0;34m\u001b[0m\u001b[0;34m\u001b[0m\u001b[0m\n\u001b[1;32m     24\u001b[0m \u001b[0;34m\u001b[0m\u001b[0m\n\u001b[0;32m---> 25\u001b[0;31m         \u001b[0moutputs\u001b[0m\u001b[0;34m,\u001b[0m \u001b[0;34m(\u001b[0m\u001b[0mhidden\u001b[0m\u001b[0;34m,\u001b[0m \u001b[0mcell\u001b[0m\u001b[0;34m)\u001b[0m \u001b[0;34m=\u001b[0m \u001b[0mself\u001b[0m\u001b[0;34m.\u001b[0m\u001b[0mrnn\u001b[0m\u001b[0;34m(\u001b[0m\u001b[0membedded\u001b[0m\u001b[0;34m)\u001b[0m\u001b[0;34m\u001b[0m\u001b[0;34m\u001b[0m\u001b[0m\n\u001b[0m\u001b[1;32m     26\u001b[0m \u001b[0;34m\u001b[0m\u001b[0m\n\u001b[1;32m     27\u001b[0m         \u001b[0;31m#outputs = [src len, batch size, hid dim * n directions]\u001b[0m\u001b[0;34m\u001b[0m\u001b[0;34m\u001b[0m\u001b[0;34m\u001b[0m\u001b[0m\n",
      "\u001b[0;32m~/.local/lib/python3.7/site-packages/torch/nn/modules/module.py\u001b[0m in \u001b[0;36m_call_impl\u001b[0;34m(self, *input, **kwargs)\u001b[0m\n\u001b[1;32m    725\u001b[0m             \u001b[0mresult\u001b[0m \u001b[0;34m=\u001b[0m \u001b[0mself\u001b[0m\u001b[0;34m.\u001b[0m\u001b[0m_slow_forward\u001b[0m\u001b[0;34m(\u001b[0m\u001b[0;34m*\u001b[0m\u001b[0minput\u001b[0m\u001b[0;34m,\u001b[0m \u001b[0;34m**\u001b[0m\u001b[0mkwargs\u001b[0m\u001b[0;34m)\u001b[0m\u001b[0;34m\u001b[0m\u001b[0;34m\u001b[0m\u001b[0m\n\u001b[1;32m    726\u001b[0m         \u001b[0;32melse\u001b[0m\u001b[0;34m:\u001b[0m\u001b[0;34m\u001b[0m\u001b[0;34m\u001b[0m\u001b[0m\n\u001b[0;32m--> 727\u001b[0;31m             \u001b[0mresult\u001b[0m \u001b[0;34m=\u001b[0m \u001b[0mself\u001b[0m\u001b[0;34m.\u001b[0m\u001b[0mforward\u001b[0m\u001b[0;34m(\u001b[0m\u001b[0;34m*\u001b[0m\u001b[0minput\u001b[0m\u001b[0;34m,\u001b[0m \u001b[0;34m**\u001b[0m\u001b[0mkwargs\u001b[0m\u001b[0;34m)\u001b[0m\u001b[0;34m\u001b[0m\u001b[0;34m\u001b[0m\u001b[0m\n\u001b[0m\u001b[1;32m    728\u001b[0m         for hook in itertools.chain(\n\u001b[1;32m    729\u001b[0m                 \u001b[0m_global_forward_hooks\u001b[0m\u001b[0;34m.\u001b[0m\u001b[0mvalues\u001b[0m\u001b[0;34m(\u001b[0m\u001b[0;34m)\u001b[0m\u001b[0;34m,\u001b[0m\u001b[0;34m\u001b[0m\u001b[0;34m\u001b[0m\u001b[0m\n",
      "\u001b[0;32m~/.local/lib/python3.7/site-packages/torch/nn/modules/rnn.py\u001b[0m in \u001b[0;36mforward\u001b[0;34m(self, input, hx)\u001b[0m\n\u001b[1;32m    580\u001b[0m         \u001b[0;32mif\u001b[0m \u001b[0mbatch_sizes\u001b[0m \u001b[0;32mis\u001b[0m \u001b[0;32mNone\u001b[0m\u001b[0;34m:\u001b[0m\u001b[0;34m\u001b[0m\u001b[0;34m\u001b[0m\u001b[0m\n\u001b[1;32m    581\u001b[0m             result = _VF.lstm(input, hx, self._flat_weights, self.bias, self.num_layers,\n\u001b[0;32m--> 582\u001b[0;31m                               self.dropout, self.training, self.bidirectional, self.batch_first)\n\u001b[0m\u001b[1;32m    583\u001b[0m         \u001b[0;32melse\u001b[0m\u001b[0;34m:\u001b[0m\u001b[0;34m\u001b[0m\u001b[0;34m\u001b[0m\u001b[0m\n\u001b[1;32m    584\u001b[0m             result = _VF.lstm(input, batch_sizes, hx, self._flat_weights, self.bias,\n",
      "\u001b[0;31mRuntimeError\u001b[0m: cuDNN error: CUDNN_STATUS_INTERNAL_ERROR"
     ]
    }
   ],
   "source": [
    "import time\n",
    "N_EPOCHS = 10\n",
    "CLIP = 1\n",
    "\n",
    "best_valid_loss = float('inf')\n",
    "\n",
    "for epoch in range(N_EPOCHS):\n",
    "    \n",
    "    start_time = time.time()\n",
    "    \n",
    "    train_loss = train(modelSeq2Seq, train_iter, optimizer, criterion, CLIP)\n",
    "    valid_loss = evaluate(modelSeq2Seq, train_iter, criterion)\n",
    "    \n",
    "    end_time = time.time()\n",
    "    \n",
    "    epoch_mins, epoch_secs = epoch_time(start_time, end_time)\n",
    "    \n",
    "    if valid_loss < best_valid_loss:\n",
    "        best_valid_loss = valid_loss\n",
    "        torch.save(model.state_dict(), 'chat-model.pt')\n",
    "    \n",
    "    print(f'Epoch: {epoch+1:02} | Time: {epoch_mins}m {epoch_secs}s')\n",
    "    print(f'\\tTrain Loss: {train_loss:.3f} | Train PPL: {math.exp(train_loss):7.3f}')\n",
    "    print(f'\\t Val. Loss: {valid_loss:.3f} |  Val. PPL: {math.exp(valid_loss):7.3f}')"
   ]
  },
  {
   "cell_type": "markdown",
   "metadata": {},
   "source": []
  },
  {
   "cell_type": "code",
   "execution_count": null,
   "metadata": {},
   "outputs": [],
   "source": []
  },
  {
   "cell_type": "code",
   "execution_count": null,
   "metadata": {},
   "outputs": [],
   "source": []
  },
  {
   "cell_type": "code",
   "execution_count": null,
   "metadata": {},
   "outputs": [],
   "source": []
  },
  {
   "cell_type": "code",
   "execution_count": null,
   "metadata": {},
   "outputs": [],
   "source": []
  },
  {
   "cell_type": "code",
   "execution_count": null,
   "metadata": {},
   "outputs": [],
   "source": []
  }
 ],
 "metadata": {
  "colab": {
   "collapsed_sections": [],
   "name": "(Starter Code) LSTM Bot",
   "provenance": []
  },
  "kernelspec": {
   "display_name": "Python 3",
   "language": "python",
   "name": "python3"
  },
  "language_info": {
   "codemirror_mode": {
    "name": "ipython",
    "version": 3
   },
   "file_extension": ".py",
   "mimetype": "text/x-python",
   "name": "python",
   "nbconvert_exporter": "python",
   "pygments_lexer": "ipython3",
   "version": "3.7.6"
  }
 },
 "nbformat": 4,
 "nbformat_minor": 1
}
