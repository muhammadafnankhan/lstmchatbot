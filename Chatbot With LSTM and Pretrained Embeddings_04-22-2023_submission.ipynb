{
 "cells": [
  {
   "cell_type": "markdown",
   "metadata": {
    "id": "pJAWnBFlkE2w"
   },
   "source": [
    "# LSTM Bot\n",
    "\n",
    "## Project Overview\n",
    "\n",
    "In this project, you will build a chatbot that can converse with you at the command line. The chatbot will use a Sequence to Sequence text generation architecture with an LSTM as it's memory unit. You will also learn to use pretrained word embeddings to improve the performance of the model. At the conclusion of the project, you will be able to show your chatbot to potential employers.\n",
    "\n",
    "Additionally, you have the option to use pretrained word embeddings in your model. We have loaded Brown Embeddings from Gensim in the starter code below. You can compare the performance of your model with pre-trained embeddings against a model without the embeddings.\n",
    "\n",
    "\n",
    "\n",
    "---\n",
    "\n",
    "\n",
    "\n",
    "A sequence to sequence model (Seq2Seq) has two components:\n",
    "- An Encoder consisting of an embedding layer and LSTM unit.\n",
    "- A Decoder consisting of an embedding layer, LSTM unit, and linear output unit.\n",
    "\n",
    "The Seq2Seq model works by accepting an input into the Encoder, passing the hidden state from the Encoder to the Decoder, which the Decoder uses to output a series of token predictions.\n",
    "\n",
    "## Dependencies\n",
    "\n",
    "- Pytorch\n",
    "- Numpy\n",
    "- Pandas\n",
    "- NLTK\n",
    "- Gzip\n",
    "- Gensim\n",
    "\n",
    "\n",
    "Please choose a dataset from the Torchtext website. We recommend looking at the Squad dataset first. Here is a link to the website where you can view your options:\n",
    "\n",
    "- https://pytorch.org/text/stable/datasets.html\n",
    "\n",
    "\n",
    "\n"
   ]
  },
  {
   "cell_type": "code",
   "execution_count": null,
   "metadata": {},
   "outputs": [],
   "source": []
  },
  {
   "cell_type": "code",
   "execution_count": null,
   "metadata": {},
   "outputs": [],
   "source": [
    "#!pip uninstall torch torchvision torchaudio -y"
   ]
  },
  {
   "cell_type": "code",
   "execution_count": null,
   "metadata": {},
   "outputs": [],
   "source": [
    "#!pip install torch==1.7.1+cu110 torchvision==0.8.2+cu110 torchaudio==0.7.2 -f https://download.pytorch.org/whl/torch_stable.html"
   ]
  },
  {
   "cell_type": "code",
   "execution_count": null,
   "metadata": {},
   "outputs": [],
   "source": [
    "#!pip install torch==1.7.1+cu110 torchvision==0.8.2+cu110 torchaudio==0.7.2 -f https://download.pytorch.org/whl/torch_stable.html"
   ]
  },
  {
   "cell_type": "code",
   "execution_count": 1,
   "metadata": {
    "scrolled": false
   },
   "outputs": [
    {
     "name": "stdout",
     "output_type": "stream",
     "text": [
      "Defaulting to user installation because normal site-packages is not writeable\n",
      "Requirement already satisfied: pip in /root/.local/lib/python3.7/site-packages (23.1.1)\n",
      "Requirement already satisfied: setuptools in /root/.local/lib/python3.7/site-packages (67.7.1)\n",
      "Requirement already satisfied: wheel in /root/.local/lib/python3.7/site-packages (0.40.0)\n",
      "\u001b[33mWARNING: Running pip as the 'root' user can result in broken permissions and conflicting behaviour with the system package manager. It is recommended to use a virtual environment instead: https://pip.pypa.io/warnings/venv\u001b[0m\u001b[33m\n",
      "\u001b[0mDefaulting to user installation because normal site-packages is not writeable\n",
      "Requirement already satisfied: spacy in /root/.local/lib/python3.7/site-packages (3.5.2)\n",
      "Requirement already satisfied: spacy-legacy<3.1.0,>=3.0.11 in /root/.local/lib/python3.7/site-packages (from spacy) (3.0.12)\n",
      "Requirement already satisfied: spacy-loggers<2.0.0,>=1.0.0 in /root/.local/lib/python3.7/site-packages (from spacy) (1.0.4)\n",
      "Requirement already satisfied: murmurhash<1.1.0,>=0.28.0 in /root/.local/lib/python3.7/site-packages (from spacy) (1.0.9)\n",
      "Requirement already satisfied: cymem<2.1.0,>=2.0.2 in /root/.local/lib/python3.7/site-packages (from spacy) (2.0.7)\n",
      "Requirement already satisfied: preshed<3.1.0,>=3.0.2 in /root/.local/lib/python3.7/site-packages (from spacy) (3.0.8)\n",
      "Requirement already satisfied: thinc<8.2.0,>=8.1.8 in /root/.local/lib/python3.7/site-packages (from spacy) (8.1.9)\n",
      "Requirement already satisfied: wasabi<1.2.0,>=0.9.1 in /root/.local/lib/python3.7/site-packages (from spacy) (1.1.1)\n",
      "Requirement already satisfied: srsly<3.0.0,>=2.4.3 in /root/.local/lib/python3.7/site-packages (from spacy) (2.4.6)\n",
      "Requirement already satisfied: catalogue<2.1.0,>=2.0.6 in /root/.local/lib/python3.7/site-packages (from spacy) (2.0.8)\n",
      "Requirement already satisfied: typer<0.8.0,>=0.3.0 in /root/.local/lib/python3.7/site-packages (from spacy) (0.7.0)\n",
      "Requirement already satisfied: pathy>=0.10.0 in /root/.local/lib/python3.7/site-packages (from spacy) (0.10.1)\n",
      "Requirement already satisfied: smart-open<7.0.0,>=5.2.1 in /opt/conda/lib/python3.7/site-packages (from spacy) (5.2.1)\n",
      "Requirement already satisfied: tqdm<5.0.0,>=4.38.0 in /opt/conda/lib/python3.7/site-packages (from spacy) (4.43.0)\n",
      "Requirement already satisfied: numpy>=1.15.0 in /opt/conda/lib/python3.7/site-packages (from spacy) (1.21.2)\n",
      "Requirement already satisfied: requests<3.0.0,>=2.13.0 in /opt/conda/lib/python3.7/site-packages (from spacy) (2.23.0)\n",
      "Requirement already satisfied: pydantic!=1.8,!=1.8.1,<1.11.0,>=1.7.4 in /root/.local/lib/python3.7/site-packages (from spacy) (1.10.7)\n",
      "Requirement already satisfied: jinja2 in /opt/conda/lib/python3.7/site-packages (from spacy) (2.11.1)\n",
      "Requirement already satisfied: setuptools in /root/.local/lib/python3.7/site-packages (from spacy) (67.7.1)\n",
      "Requirement already satisfied: packaging>=20.0 in /opt/conda/lib/python3.7/site-packages (from spacy) (20.1)\n",
      "Requirement already satisfied: langcodes<4.0.0,>=3.2.0 in /root/.local/lib/python3.7/site-packages (from spacy) (3.3.0)\n",
      "Requirement already satisfied: typing-extensions<4.5.0,>=3.7.4.1 in /root/.local/lib/python3.7/site-packages (from spacy) (4.4.0)\n",
      "Requirement already satisfied: zipp>=0.5 in /opt/conda/lib/python3.7/site-packages (from catalogue<2.1.0,>=2.0.6->spacy) (3.0.0)\n",
      "Requirement already satisfied: pyparsing>=2.0.2 in /opt/conda/lib/python3.7/site-packages (from packaging>=20.0->spacy) (2.4.6)\n",
      "Requirement already satisfied: six in /opt/conda/lib/python3.7/site-packages (from packaging>=20.0->spacy) (1.16.0)\n",
      "Requirement already satisfied: chardet<4,>=3.0.2 in /opt/conda/lib/python3.7/site-packages (from requests<3.0.0,>=2.13.0->spacy) (3.0.4)\n",
      "Requirement already satisfied: idna<3,>=2.5 in /opt/conda/lib/python3.7/site-packages (from requests<3.0.0,>=2.13.0->spacy) (2.9)\n",
      "Requirement already satisfied: urllib3!=1.25.0,!=1.25.1,<1.26,>=1.21.1 in /opt/conda/lib/python3.7/site-packages (from requests<3.0.0,>=2.13.0->spacy) (1.25.7)\n",
      "Requirement already satisfied: certifi>=2017.4.17 in /opt/conda/lib/python3.7/site-packages (from requests<3.0.0,>=2.13.0->spacy) (2019.11.28)\n",
      "Requirement already satisfied: blis<0.8.0,>=0.7.8 in /root/.local/lib/python3.7/site-packages (from thinc<8.2.0,>=8.1.8->spacy) (0.7.9)\n",
      "Requirement already satisfied: confection<1.0.0,>=0.0.1 in /root/.local/lib/python3.7/site-packages (from thinc<8.2.0,>=8.1.8->spacy) (0.0.4)\n",
      "Requirement already satisfied: click<9.0.0,>=7.1.1 in /root/.local/lib/python3.7/site-packages (from typer<0.8.0,>=0.3.0->spacy) (8.1.3)\n",
      "Requirement already satisfied: MarkupSafe>=0.23 in /opt/conda/lib/python3.7/site-packages (from jinja2->spacy) (1.1.1)\n",
      "Requirement already satisfied: importlib-metadata in /opt/conda/lib/python3.7/site-packages (from click<9.0.0,>=7.1.1->typer<0.8.0,>=0.3.0->spacy) (1.5.0)\n",
      "\u001b[33mWARNING: Running pip as the 'root' user can result in broken permissions and conflicting behaviour with the system package manager. It is recommended to use a virtual environment instead: https://pip.pypa.io/warnings/venv\u001b[0m\u001b[33m\n",
      "\u001b[0mDefaulting to user installation because normal site-packages is not writeable\n",
      "Collecting en-core-web-sm==3.5.0\n",
      "  Downloading https://github.com/explosion/spacy-models/releases/download/en_core_web_sm-3.5.0/en_core_web_sm-3.5.0-py3-none-any.whl (12.8 MB)\n",
      "\u001b[2K     \u001b[90m━━━━━━━━━━━━━━━━━━━━━━━━━━━━━━━━━━━━━━━━\u001b[0m \u001b[32m12.8/12.8 MB\u001b[0m \u001b[31m51.9 MB/s\u001b[0m eta \u001b[36m0:00:00\u001b[0m00:01\u001b[0m00:01\u001b[0m\n",
      "\u001b[?25hRequirement already satisfied: spacy<3.6.0,>=3.5.0 in /root/.local/lib/python3.7/site-packages (from en-core-web-sm==3.5.0) (3.5.2)\n",
      "Requirement already satisfied: spacy-legacy<3.1.0,>=3.0.11 in /root/.local/lib/python3.7/site-packages (from spacy<3.6.0,>=3.5.0->en-core-web-sm==3.5.0) (3.0.12)\n",
      "Requirement already satisfied: spacy-loggers<2.0.0,>=1.0.0 in /root/.local/lib/python3.7/site-packages (from spacy<3.6.0,>=3.5.0->en-core-web-sm==3.5.0) (1.0.4)\n",
      "Requirement already satisfied: murmurhash<1.1.0,>=0.28.0 in /root/.local/lib/python3.7/site-packages (from spacy<3.6.0,>=3.5.0->en-core-web-sm==3.5.0) (1.0.9)\n",
      "Requirement already satisfied: cymem<2.1.0,>=2.0.2 in /root/.local/lib/python3.7/site-packages (from spacy<3.6.0,>=3.5.0->en-core-web-sm==3.5.0) (2.0.7)\n",
      "Requirement already satisfied: preshed<3.1.0,>=3.0.2 in /root/.local/lib/python3.7/site-packages (from spacy<3.6.0,>=3.5.0->en-core-web-sm==3.5.0) (3.0.8)\n",
      "Requirement already satisfied: thinc<8.2.0,>=8.1.8 in /root/.local/lib/python3.7/site-packages (from spacy<3.6.0,>=3.5.0->en-core-web-sm==3.5.0) (8.1.9)\n",
      "Requirement already satisfied: wasabi<1.2.0,>=0.9.1 in /root/.local/lib/python3.7/site-packages (from spacy<3.6.0,>=3.5.0->en-core-web-sm==3.5.0) (1.1.1)\n",
      "Requirement already satisfied: srsly<3.0.0,>=2.4.3 in /root/.local/lib/python3.7/site-packages (from spacy<3.6.0,>=3.5.0->en-core-web-sm==3.5.0) (2.4.6)\n",
      "Requirement already satisfied: catalogue<2.1.0,>=2.0.6 in /root/.local/lib/python3.7/site-packages (from spacy<3.6.0,>=3.5.0->en-core-web-sm==3.5.0) (2.0.8)\n",
      "Requirement already satisfied: typer<0.8.0,>=0.3.0 in /root/.local/lib/python3.7/site-packages (from spacy<3.6.0,>=3.5.0->en-core-web-sm==3.5.0) (0.7.0)\n",
      "Requirement already satisfied: pathy>=0.10.0 in /root/.local/lib/python3.7/site-packages (from spacy<3.6.0,>=3.5.0->en-core-web-sm==3.5.0) (0.10.1)\n",
      "Requirement already satisfied: smart-open<7.0.0,>=5.2.1 in /opt/conda/lib/python3.7/site-packages (from spacy<3.6.0,>=3.5.0->en-core-web-sm==3.5.0) (5.2.1)\n",
      "Requirement already satisfied: tqdm<5.0.0,>=4.38.0 in /opt/conda/lib/python3.7/site-packages (from spacy<3.6.0,>=3.5.0->en-core-web-sm==3.5.0) (4.43.0)\n",
      "Requirement already satisfied: numpy>=1.15.0 in /opt/conda/lib/python3.7/site-packages (from spacy<3.6.0,>=3.5.0->en-core-web-sm==3.5.0) (1.21.2)\n",
      "Requirement already satisfied: requests<3.0.0,>=2.13.0 in /opt/conda/lib/python3.7/site-packages (from spacy<3.6.0,>=3.5.0->en-core-web-sm==3.5.0) (2.23.0)\n",
      "Requirement already satisfied: pydantic!=1.8,!=1.8.1,<1.11.0,>=1.7.4 in /root/.local/lib/python3.7/site-packages (from spacy<3.6.0,>=3.5.0->en-core-web-sm==3.5.0) (1.10.7)\n",
      "Requirement already satisfied: jinja2 in /opt/conda/lib/python3.7/site-packages (from spacy<3.6.0,>=3.5.0->en-core-web-sm==3.5.0) (2.11.1)\n",
      "Requirement already satisfied: setuptools in /root/.local/lib/python3.7/site-packages (from spacy<3.6.0,>=3.5.0->en-core-web-sm==3.5.0) (67.7.1)\n",
      "Requirement already satisfied: packaging>=20.0 in /opt/conda/lib/python3.7/site-packages (from spacy<3.6.0,>=3.5.0->en-core-web-sm==3.5.0) (20.1)\n",
      "Requirement already satisfied: langcodes<4.0.0,>=3.2.0 in /root/.local/lib/python3.7/site-packages (from spacy<3.6.0,>=3.5.0->en-core-web-sm==3.5.0) (3.3.0)\n",
      "Requirement already satisfied: typing-extensions<4.5.0,>=3.7.4.1 in /root/.local/lib/python3.7/site-packages (from spacy<3.6.0,>=3.5.0->en-core-web-sm==3.5.0) (4.4.0)\n",
      "Requirement already satisfied: zipp>=0.5 in /opt/conda/lib/python3.7/site-packages (from catalogue<2.1.0,>=2.0.6->spacy<3.6.0,>=3.5.0->en-core-web-sm==3.5.0) (3.0.0)\n",
      "Requirement already satisfied: pyparsing>=2.0.2 in /opt/conda/lib/python3.7/site-packages (from packaging>=20.0->spacy<3.6.0,>=3.5.0->en-core-web-sm==3.5.0) (2.4.6)\n",
      "Requirement already satisfied: six in /opt/conda/lib/python3.7/site-packages (from packaging>=20.0->spacy<3.6.0,>=3.5.0->en-core-web-sm==3.5.0) (1.16.0)\n",
      "Requirement already satisfied: chardet<4,>=3.0.2 in /opt/conda/lib/python3.7/site-packages (from requests<3.0.0,>=2.13.0->spacy<3.6.0,>=3.5.0->en-core-web-sm==3.5.0) (3.0.4)\n",
      "Requirement already satisfied: idna<3,>=2.5 in /opt/conda/lib/python3.7/site-packages (from requests<3.0.0,>=2.13.0->spacy<3.6.0,>=3.5.0->en-core-web-sm==3.5.0) (2.9)\n",
      "Requirement already satisfied: urllib3!=1.25.0,!=1.25.1,<1.26,>=1.21.1 in /opt/conda/lib/python3.7/site-packages (from requests<3.0.0,>=2.13.0->spacy<3.6.0,>=3.5.0->en-core-web-sm==3.5.0) (1.25.7)\n",
      "Requirement already satisfied: certifi>=2017.4.17 in /opt/conda/lib/python3.7/site-packages (from requests<3.0.0,>=2.13.0->spacy<3.6.0,>=3.5.0->en-core-web-sm==3.5.0) (2019.11.28)\n",
      "Requirement already satisfied: blis<0.8.0,>=0.7.8 in /root/.local/lib/python3.7/site-packages (from thinc<8.2.0,>=8.1.8->spacy<3.6.0,>=3.5.0->en-core-web-sm==3.5.0) (0.7.9)\n",
      "Requirement already satisfied: confection<1.0.0,>=0.0.1 in /root/.local/lib/python3.7/site-packages (from thinc<8.2.0,>=8.1.8->spacy<3.6.0,>=3.5.0->en-core-web-sm==3.5.0) (0.0.4)\n",
      "Requirement already satisfied: click<9.0.0,>=7.1.1 in /root/.local/lib/python3.7/site-packages (from typer<0.8.0,>=0.3.0->spacy<3.6.0,>=3.5.0->en-core-web-sm==3.5.0) (8.1.3)\n",
      "Requirement already satisfied: MarkupSafe>=0.23 in /opt/conda/lib/python3.7/site-packages (from jinja2->spacy<3.6.0,>=3.5.0->en-core-web-sm==3.5.0) (1.1.1)\n",
      "Requirement already satisfied: importlib-metadata in /opt/conda/lib/python3.7/site-packages (from click<9.0.0,>=7.1.1->typer<0.8.0,>=0.3.0->spacy<3.6.0,>=3.5.0->en-core-web-sm==3.5.0) (1.5.0)\n",
      "\u001b[33mWARNING: Running pip as the 'root' user can result in broken permissions and conflicting behaviour with the system package manager. It is recommended to use a virtual environment instead: https://pip.pypa.io/warnings/venv\u001b[0m\u001b[33m\n",
      "\u001b[0m\u001b[38;5;2m✔ Download and installation successful\u001b[0m\n",
      "You can now load the package via spacy.load('en_core_web_sm')\n"
     ]
    }
   ],
   "source": [
    "!pip install -U pip setuptools wheel\n",
    "!pip install -U spacy\n",
    "!python -m spacy download en_core_web_sm"
   ]
  },
  {
   "cell_type": "code",
   "execution_count": 2,
   "metadata": {},
   "outputs": [
    {
     "name": "stdout",
     "output_type": "stream",
     "text": [
      "Name: torch\r\n",
      "Version: 1.11.0\r\n",
      "Summary: Tensors and Dynamic neural networks in Python with strong GPU acceleration\r\n",
      "Home-page: https://pytorch.org/\r\n",
      "Author: PyTorch Team\r\n",
      "Author-email: packages@pytorch.org\r\n",
      "License: BSD-3\r\n",
      "Location: /opt/conda/lib/python3.7/site-packages\r\n",
      "Requires: typing-extensions\r\n",
      "Required-by: torchtext, torchvision\r\n"
     ]
    }
   ],
   "source": [
    "!pip show torch"
   ]
  },
  {
   "cell_type": "code",
   "execution_count": 3,
   "metadata": {},
   "outputs": [
    {
     "data": {
      "text/plain": [
       "'1.11.0+cu102'"
      ]
     },
     "execution_count": 3,
     "metadata": {},
     "output_type": "execute_result"
    }
   ],
   "source": [
    "import torch;\n",
    "torch.__version__"
   ]
  },
  {
   "cell_type": "code",
   "execution_count": null,
   "metadata": {},
   "outputs": [],
   "source": []
  },
  {
   "cell_type": "code",
   "execution_count": 4,
   "metadata": {},
   "outputs": [],
   "source": [
    "import pandas as pd\n",
    "import json\n",
    "import string"
   ]
  },
  {
   "cell_type": "code",
   "execution_count": 5,
   "metadata": {
    "colab": {
     "base_uri": "https://localhost:8080/"
    },
    "id": "eg81uNTWixbi",
    "outputId": "9c0f9eda-75fb-4526-e9b6-f9a76eeeb007"
   },
   "outputs": [
    {
     "name": "stderr",
     "output_type": "stream",
     "text": [
      "[nltk_data] Downloading package brown to /root/nltk_data...\n",
      "[nltk_data]   Package brown is already up-to-date!\n",
      "[nltk_data] Downloading package punkt to /root/nltk_data...\n",
      "[nltk_data]   Package punkt is already up-to-date!\n"
     ]
    }
   ],
   "source": [
    "import gensim\n",
    "import nltk\n",
    "import numpy as np\n",
    "import pandas as pd\n",
    "import gzip\n",
    "import torch\n",
    "from nltk.corpus import brown\n",
    "from nltk.tokenize import word_tokenize\n",
    "from pandas.io.json import json_normalize \n",
    "from torch.utils.data import TensorDataset, DataLoader\n",
    "\n",
    "nltk.download('brown')\n",
    "nltk.download('punkt')\n",
    "\n",
    "# Output, save, and load brown embeddings\n",
    "\n",
    "model_gensim = gensim.models.Word2Vec(brown.sents())\n",
    "model_gensim.save('brown.embedding')\n",
    "\n",
    "w2v = gensim.models.Word2Vec.load('brown.embedding')\n",
    "\n",
    "def clean_text(x):\n",
    "    if len(x) > 0:\n",
    "        return x[0][\"text\"]\n",
    "\n",
    "def loadDF(path):\n",
    "    \n",
    "    df = pd.read_json(path) \n",
    "    data = pd.json_normalize(data = df['data'],\n",
    "                            record_path =['paragraphs', 'qas'])\n",
    "    data = data.drop('id', axis=1)\n",
    "    data = data.drop('is_impossible', axis=1)\n",
    "    data = data.drop('plausible_answers', axis=1)\n",
    "    data['answers'] = data['answers'].apply(clean_text)\n",
    "    \n",
    "    return data\n",
    "\n",
    "\n",
    "\n",
    "#, dev_test\n",
    "def prepare_text(df_train):\n",
    "    \n",
    "\n",
    "    \n",
    "    return df_train #, dev_test\n",
    "\n",
    "\n",
    "\n",
    "def train_test_split(SRC, TRG):\n",
    "    \n",
    "    '''\n",
    "    Input: SRC, our list of questions from the dataset\n",
    "            TRG, our list of responses from the dataset\n",
    "\n",
    "    Output: Training and test datasets for SRC & TRG\n",
    "\n",
    "    '''\n",
    "    \n",
    "    return SRC_train_dataset, SRC_test_dataset, TRG_train_dataset, TRG_test_dataset\n"
   ]
  },
  {
   "cell_type": "code",
   "execution_count": 6,
   "metadata": {},
   "outputs": [],
   "source": [
    "df_train = loadDF('./train-v2.0.json')\n",
    "dev_test = loadDF('./dev-v2.0.json')"
   ]
  },
  {
   "cell_type": "code",
   "execution_count": 7,
   "metadata": {},
   "outputs": [],
   "source": [
    "df_train.dropna()\n",
    "dev_test.dropna()\n",
    "df_train = df_train[df_train['answers'].notna()]\n",
    "dev_test = dev_test[dev_test['answers'].notna()]\n",
    "df_train = df_train[df_train['question'].notna()]\n",
    "dev_test = dev_test[dev_test['question'].notna()]"
   ]
  },
  {
   "cell_type": "code",
   "execution_count": 8,
   "metadata": {},
   "outputs": [],
   "source": [
    "pd.set_option('display.max_rows', None)"
   ]
  },
  {
   "cell_type": "code",
   "execution_count": 9,
   "metadata": {
    "scrolled": true
   },
   "outputs": [
    {
     "data": {
      "text/html": [
       "<div>\n",
       "<style scoped>\n",
       "    .dataframe tbody tr th:only-of-type {\n",
       "        vertical-align: middle;\n",
       "    }\n",
       "\n",
       "    .dataframe tbody tr th {\n",
       "        vertical-align: top;\n",
       "    }\n",
       "\n",
       "    .dataframe thead th {\n",
       "        text-align: right;\n",
       "    }\n",
       "</style>\n",
       "<table border=\"1\" class=\"dataframe\">\n",
       "  <thead>\n",
       "    <tr style=\"text-align: right;\">\n",
       "      <th></th>\n",
       "      <th>question</th>\n",
       "      <th>answers</th>\n",
       "    </tr>\n",
       "  </thead>\n",
       "  <tbody>\n",
       "    <tr>\n",
       "      <th>0</th>\n",
       "      <td>When did Beyonce start becoming popular?</td>\n",
       "      <td>in the late 1990s</td>\n",
       "    </tr>\n",
       "    <tr>\n",
       "      <th>1</th>\n",
       "      <td>What areas did Beyonce compete in when she was...</td>\n",
       "      <td>singing and dancing</td>\n",
       "    </tr>\n",
       "    <tr>\n",
       "      <th>2</th>\n",
       "      <td>When did Beyonce leave Destiny's Child and bec...</td>\n",
       "      <td>2003</td>\n",
       "    </tr>\n",
       "    <tr>\n",
       "      <th>3</th>\n",
       "      <td>In what city and state did Beyonce  grow up?</td>\n",
       "      <td>Houston, Texas</td>\n",
       "    </tr>\n",
       "    <tr>\n",
       "      <th>4</th>\n",
       "      <td>In which decade did Beyonce become famous?</td>\n",
       "      <td>late 1990s</td>\n",
       "    </tr>\n",
       "  </tbody>\n",
       "</table>\n",
       "</div>"
      ],
      "text/plain": [
       "                                            question              answers\n",
       "0           When did Beyonce start becoming popular?    in the late 1990s\n",
       "1  What areas did Beyonce compete in when she was...  singing and dancing\n",
       "2  When did Beyonce leave Destiny's Child and bec...                 2003\n",
       "3      In what city and state did Beyonce  grow up?        Houston, Texas\n",
       "4         In which decade did Beyonce become famous?           late 1990s"
      ]
     },
     "execution_count": 9,
     "metadata": {},
     "output_type": "execute_result"
    }
   ],
   "source": [
    "df_train = df_train[0:5000]\n",
    "dev_test = dev_test[0:5000]\n",
    "df_train.head()"
   ]
  },
  {
   "cell_type": "code",
   "execution_count": 10,
   "metadata": {},
   "outputs": [],
   "source": [
    "SOS_token = 55000\n",
    "EOS_token = 55001\n",
    "PAD_IDX = 55002\n",
    "word2VectorDict = w2v.wv.key_to_index \n",
    "\n",
    "class Lang:\n",
    "    def __init__(self, name):\n",
    "        self.name = name\n",
    "        self.word2index = {\"SOS\": 55000, \"EOS\": 55001, \"PAD_IDX\": 55002}\n",
    "        self.word2count = {}\n",
    "        self.index2word = {55000: \"SOS\", 55001: \"EOS\", 55002: \"PAD_IDX\"}\n",
    "        self.n_words = 3  \n",
    "\n",
    "    def addSentence(self, sentence):\n",
    "        for word in sentence.split(' '):\n",
    "            self.addWord(word)\n",
    "            \n",
    "\n",
    "    def addWord(self, word):\n",
    "        if word not in self.word2index:\n",
    "                if word in word2VectorDict:\n",
    "                    indexOfWord = word2VectorDict[word]\n",
    "                    self.word2index[word] = indexOfWord\n",
    "                    self.index2word[indexOfWord] = word\n",
    "                    self.n_words += 1\n",
    "                else:\n",
    "                    self.word2index[word] = self.n_words\n",
    "                    self.index2word[self.n_words] = word\n",
    "                    self.n_words += 1\n",
    "                self.word2count[word] = 1\n",
    "        else:\n",
    "            self.word2count[word] += 1\n",
    "            \n",
    "lang = Lang(name='alltokens')\n",
    "Questionlang = Lang(name='allQuestiontokens')\n",
    "Answerlang = Lang(name='allAnswertokens')"
   ]
  },
  {
   "cell_type": "code",
   "execution_count": 142,
   "metadata": {},
   "outputs": [
    {
     "data": {
      "text/plain": [
       "'Reference:-  https://pytorch.org/tutorials/beginner/torchtext_translation_tutorial.html\\nSome methods are taken from this tutorial'"
      ]
     },
     "execution_count": 142,
     "metadata": {},
     "output_type": "execute_result"
    }
   ],
   "source": [
    "'''Reference:-  https://pytorch.org/tutorials/beginner/torchtext_translation_tutorial.html\n",
    "Some methods are taken from this tutorial'''"
   ]
  },
  {
   "cell_type": "code",
   "execution_count": 11,
   "metadata": {},
   "outputs": [],
   "source": [
    "import torchtext\n",
    "import torch\n",
    "from torchtext.data.utils import get_tokenizer\n",
    "from collections import Counter\n",
    "from torchtext.vocab import vocab\n",
    "import spacy\n",
    "\n",
    "en_nlp = spacy.load(\"en_core_web_sm\")\n",
    "\n",
    "\n",
    "en_tokenizer = get_tokenizer('spacy', language='en_core_web_sm')\n",
    "\n",
    "def build_vocab(df, caption, tokenizer):\n",
    "    default_index = 0\n",
    "    counter = Counter()\n",
    "    for index, row, in df.iterrows():\n",
    "        counter.update(tokenizer(row[caption]))\n",
    "    v2 = vocab(counter, specials=['<unk>', '<pad>', '<bos>', '<eos>'])\n",
    "    v2.set_default_index(default_index)\n",
    "    v2.set_default_index(v2['<unk>'])\n",
    "    #for index, row, in df.iterrows():\n",
    "    #    lang.addWord(tokenizer(row[caption]))        \n",
    "    return v2\n",
    "\n",
    "question_vocab = build_vocab(df_train, \"question\", en_tokenizer)\n",
    "answer_vocab = build_vocab(df_train, \"answers\", en_tokenizer)\n",
    "\n",
    "def data_process(df):\n",
    "    \n",
    "    data = []\n",
    "    for index, (question, answers) in df.iterrows():\n",
    "        question_tensor_ = torch.tensor([question_vocab[token] for token in en_tokenizer(question)],\n",
    "                            dtype=torch.long)\n",
    "        answer_tensor_ = torch.tensor([answer_vocab[token] for token in en_tokenizer(answers)],\n",
    "                            dtype=torch.long)\n",
    "        data.append((question_tensor_, answer_tensor_))\n",
    "    return data\n",
    "\n",
    "train_data = data_process(df_train)\n",
    "val_data = data_process(dev_test)"
   ]
  },
  {
   "cell_type": "code",
   "execution_count": 12,
   "metadata": {},
   "outputs": [
    {
     "data": {
      "text/plain": [
       "(tensor([ 4,  5,  6,  7,  8,  9, 10]), tensor([4, 5, 6, 7]))"
      ]
     },
     "execution_count": 12,
     "metadata": {},
     "output_type": "execute_result"
    }
   ],
   "source": [
    "train_data[0]"
   ]
  },
  {
   "cell_type": "code",
   "execution_count": 13,
   "metadata": {},
   "outputs": [
    {
     "data": {
      "text/plain": [
       "(tensor([  29,   30, 1300,  112,    0,  225,   10]), tensor([798]))"
      ]
     },
     "execution_count": 13,
     "metadata": {},
     "output_type": "execute_result"
    }
   ],
   "source": [
    "val_data[0]"
   ]
  },
  {
   "cell_type": "code",
   "execution_count": 14,
   "metadata": {},
   "outputs": [
    {
     "data": {
      "text/plain": [
       "5000"
      ]
     },
     "execution_count": 14,
     "metadata": {},
     "output_type": "execute_result"
    }
   ],
   "source": [
    "len(train_data)\n",
    "len(val_data)"
   ]
  },
  {
   "cell_type": "code",
   "execution_count": 141,
   "metadata": {},
   "outputs": [
    {
     "data": {
      "text/plain": [
       "'Reference:-  https://pytorch.org/tutorials/beginner/torchtext_translation_tutorial.html\\nSome methods generate_batch are taken from this tutorial'"
      ]
     },
     "execution_count": 141,
     "metadata": {},
     "output_type": "execute_result"
    }
   ],
   "source": [
    "'''Reference:-  https://pytorch.org/tutorials/beginner/torchtext_translation_tutorial.html\n",
    "Some methods generate_batch are taken from this tutorial'''"
   ]
  },
  {
   "cell_type": "code",
   "execution_count": 15,
   "metadata": {},
   "outputs": [
    {
     "name": "stdout",
     "output_type": "stream",
     "text": [
      "cuda\n"
     ]
    }
   ],
   "source": [
    "import torch\n",
    "\n",
    "device = torch.device('cuda' if torch.cuda.is_available() else 'cpu')\n",
    "print(device)\n",
    "BATCH_SIZE = 128\n",
    "PAD_IDX = question_vocab['<pad>']\n",
    "BOS_IDX = question_vocab['<bos>']\n",
    "EOS_IDX = question_vocab['<eos>']\n",
    "\n",
    "\n",
    "from torch.nn.utils.rnn import pad_sequence\n",
    "from torch.utils.data import DataLoader\n",
    "\n",
    "def generate_batch(data_batch):\n",
    "    de_batch, en_batch = [], []\n",
    "    for (de_item, en_item) in data_batch:\n",
    "        de_batch.append(torch.cat([torch.tensor([BOS_IDX]), de_item, torch.tensor([EOS_IDX])], dim=0))\n",
    "        en_batch.append(torch.cat([torch.tensor([BOS_IDX]), en_item, torch.tensor([EOS_IDX])], dim=0))\n",
    "        de = pad_sequence(de_batch, padding_value=PAD_IDX)\n",
    "        en = pad_sequence(en_batch, padding_value=PAD_IDX)\n",
    "    return de, en\n",
    "\n",
    "train_iter = DataLoader(train_data, batch_size=BATCH_SIZE,\n",
    "                        shuffle=True, collate_fn=generate_batch)\n",
    "valid_iter = DataLoader(val_data, batch_size=BATCH_SIZE,\n",
    "                        shuffle=True, collate_fn=generate_batch)\n",
    "#test_iter = DataLoader(test_data, batch_size=BATCH_SIZE,\n",
    "#                       shuffle=True, collate_fn=generate_batch)"
   ]
  },
  {
   "cell_type": "code",
   "execution_count": 16,
   "metadata": {},
   "outputs": [
    {
     "name": "stdout",
     "output_type": "stream",
     "text": [
      "3\n"
     ]
    }
   ],
   "source": [
    "print(EOS_IDX)"
   ]
  },
  {
   "cell_type": "code",
   "execution_count": null,
   "metadata": {},
   "outputs": [],
   "source": []
  },
  {
   "cell_type": "code",
   "execution_count": null,
   "metadata": {},
   "outputs": [],
   "source": [
    "\n"
   ]
  },
  {
   "cell_type": "code",
   "execution_count": null,
   "metadata": {},
   "outputs": [],
   "source": []
  },
  {
   "cell_type": "code",
   "execution_count": 17,
   "metadata": {},
   "outputs": [],
   "source": [
    "#df_train.head(5000)"
   ]
  },
  {
   "cell_type": "code",
   "execution_count": 18,
   "metadata": {},
   "outputs": [
    {
     "name": "stdout",
     "output_type": "stream",
     "text": [
      "tensor([[   2,    2,    2,  ...,    2,    2,    2],\n",
      "        [3683,  734, 2415,  ...,    5,  115, 1053],\n",
      "        [   3, 2683, 2416,  ...,  301,  116,    3],\n",
      "        ...,\n",
      "        [   1,    1,    1,  ...,    1,    1,    1],\n",
      "        [   1,    1,    1,  ...,    1,    1,    1],\n",
      "        [   1,    1,    1,  ...,    1,    1,    1]])\n",
      "tensor([[   2,    2,    2,  ...,    2,    2,    2],\n",
      "        [ 809, 2272,   43,  ...,    5, 2295,   55],\n",
      "        [ 810, 2273,    3,  ..., 1400, 2296,   56],\n",
      "        ...,\n",
      "        [   1,    1,    1,  ...,    1,    1,    1],\n",
      "        [   1,    1,    1,  ...,    1,    1,    1],\n",
      "        [   1,    1,    1,  ...,    1,    1,    1]])\n",
      "tensor([[   2,    2,    2,  ...,    2,    2,    2],\n",
      "        [ 121, 1938, 4281,  ...,  148,  495,   35],\n",
      "        [ 840,   13, 4324,  ...,    3,    3,    3],\n",
      "        ...,\n",
      "        [   1,    1,    1,  ...,    1,    1,    1],\n",
      "        [   1,    1,    1,  ...,    1,    1,    1],\n",
      "        [   1,    1,    1,  ...,    1,    1,    1]])\n",
      "tensor([[   2,    2,    2,  ...,    2,    2,    2],\n",
      "        [1662, 3608, 1999,  ..., 1222, 3391,  121],\n",
      "        [   3,   16, 1987,  ...,    3, 3392, 1290],\n",
      "        ...,\n",
      "        [   1,    1,    1,  ...,    1,    1,    1],\n",
      "        [   1,    1,    1,  ...,    1,    1,    1],\n",
      "        [   1,    1,    1,  ...,    1,    1,    1]])\n",
      "tensor([[   2,    2,    2,  ...,    2,    2,    2],\n",
      "        [4551,   24, 2329,  ...,  106,  176, 2498],\n",
      "        [   3,    3,    3,  ...,  107,    4,    3],\n",
      "        ...,\n",
      "        [   1,    1,    1,  ...,    1,    1,    1],\n",
      "        [   1,    1,    1,  ...,    1,    1,    1],\n",
      "        [   1,    1,    1,  ...,    1,    1,    1]])\n",
      "tensor([[   2,    2,    2,  ...,    2,    2,    2],\n",
      "        [ 798,  358,  457,  ...,   35, 1909,  354],\n",
      "        [   3,  359,    3,  ...,    3,    3,    3],\n",
      "        ...,\n",
      "        [   1,    1,    1,  ...,    1,    1,    1],\n",
      "        [   1,    1,    1,  ...,    1,    1,    1],\n",
      "        [   1,    1,    1,  ...,    1,    1,    1]])\n",
      "tensor([[   2,    2,    2,  ...,    2,    2,    2],\n",
      "        [2903,    5, 3042,  ..., 1243, 1779,  154],\n",
      "        [2904, 1400,    3,  ...,    3, 1780,  433],\n",
      "        ...,\n",
      "        [   1,    1,    1,  ...,    1,    1,    1],\n",
      "        [   1,    1,    1,  ...,    1,    1,    1],\n",
      "        [   1,    1,    1,  ...,    1,    1,    1]])\n",
      "tensor([[   2,    2,    2,  ...,    2,    2,    2],\n",
      "        [ 445,  600, 1107,  ..., 1799, 2442,  356],\n",
      "        [   3,  601,    3,  ..., 1800,  336,    3],\n",
      "        ...,\n",
      "        [   1,    1,    1,  ...,    1,    1,    1],\n",
      "        [   1,    1,    1,  ...,    1,    1,    1],\n",
      "        [   1,    1,    1,  ...,    1,    1,    1]])\n",
      "tensor([[   2,    2,    2,  ...,    2,    2,    2],\n",
      "        [4495, 2718, 1810,  ..., 4345,    5, 4608],\n",
      "        [4496,  908, 1811,  ...,    3, 1684, 1283],\n",
      "        ...,\n",
      "        [   1,    1,    1,  ...,    1,    1,    1],\n",
      "        [   1,    1,    1,  ...,    1,    1,    1],\n",
      "        [   1,    1,    1,  ...,    1,    1,    1]])\n",
      "tensor([[   2,    2,    2,  ...,    2,    2,    2],\n",
      "        [3042, 1021, 3438,  ..., 2281, 2623,   15],\n",
      "        [   3, 1022,    3,  ..., 2282,    3,   16],\n",
      "        ...,\n",
      "        [   1,    1,    1,  ...,    1,    1,    1],\n",
      "        [   1,    1,    1,  ...,    1,    1,    1],\n",
      "        [   1,    1,    1,  ...,    1,    1,    1]])\n",
      "tensor([[   2,    2,    2,  ...,    2,    2,    2],\n",
      "        [ 154, 2147, 3178,  ...,    5, 3665, 1662],\n",
      "        [ 200,  300,    3,  ..., 1610, 3666,    3],\n",
      "        ...,\n",
      "        [   1,    1,    1,  ...,    1,    1,    1],\n",
      "        [   1,    1,    1,  ...,    1,    1,    1],\n",
      "        [   1,    1,    1,  ...,    1,    1,    1]])\n",
      "tensor([[   2,    2,    2,  ...,    2,    2,    2],\n",
      "        [3584, 1250,   49,  ..., 3184, 3612,  630],\n",
      "        [3585, 1251,  332,  ..., 3185,   13, 2636],\n",
      "        ...,\n",
      "        [   1,    1,    1,  ...,    1,    1,    1],\n",
      "        [   1,    1,    1,  ...,    1,    1,    1],\n",
      "        [   1,    1,    1,  ...,    1,    1,    1]])\n",
      "tensor([[   2,    2,    2,  ...,    2,    2,    2],\n",
      "        [3200, 2836, 2540,  ..., 3524, 3597, 3467],\n",
      "        [   3,    3,  338,  ...,   13, 3119, 2002],\n",
      "        ...,\n",
      "        [   1,    1,    1,  ...,    1,    1,    1],\n",
      "        [   1,    1,    1,  ...,    1,    1,    1],\n",
      "        [   1,    1,    1,  ...,    1,    1,    1]])\n",
      "tensor([[   2,    2,    2,  ...,    2,    2,    2],\n",
      "        [ 228, 3042, 3366,  ...,   31,   18, 3316],\n",
      "        [ 229,    3,    3,  ...,    3,    4,    3],\n",
      "        ...,\n",
      "        [   1,    1,    1,  ...,    1,    1,    1],\n",
      "        [   1,    1,    1,  ...,    1,    1,    1],\n",
      "        [   1,    1,    1,  ...,    1,    1,    1]])\n",
      "tensor([[   2,    2,    2,  ...,    2,    2,    2],\n",
      "        [4454, 3513, 2671,  ..., 2027, 1739,    5],\n",
      "        [4455,    3,    3,  ...,    3, 1722, 2930],\n",
      "        ...,\n",
      "        [   1,    1,    1,  ...,    1,    1,    1],\n",
      "        [   1,    1,    1,  ...,    1,    1,    1],\n",
      "        [   1,    1,    1,  ...,    1,    1,    1]])\n",
      "tensor([[   2,    2,    2,  ...,    2,    2,    2],\n",
      "        [  82, 4092, 1164,  ..., 3274,    5, 1796],\n",
      "        [   3, 2036, 1165,  ...,    3,  151,    3],\n",
      "        ...,\n",
      "        [   1,    1,    1,  ...,    1,    1,    1],\n",
      "        [   1,    1,    1,  ...,    1,    1,    1],\n",
      "        [   1,    1,    1,  ...,    1,    1,    1]])\n",
      "tensor([[   2,    2,    2,  ...,    2,    2,    2],\n",
      "        [ 638,  650, 3270,  ...,    5,  800, 4270],\n",
      "        [3257,  233,    3,  ..., 1704,  801, 4271],\n",
      "        ...,\n",
      "        [   1,    1,    1,  ...,    1,    1,    1],\n",
      "        [   1,    1,    1,  ...,    1,    1,    1],\n",
      "        [   1,    1,    1,  ...,    1,    1,    1]])\n",
      "tensor([[   2,    2,    2,  ...,    2,    2,    2],\n",
      "        [ 354, 1017,  365,  ...,  182, 1017, 4477],\n",
      "        [   3, 3758,    3,  ...,  292, 2693, 4478],\n",
      "        ...,\n",
      "        [   1,    1,    1,  ...,    1,    5,    1],\n",
      "        [   1,    1,    1,  ...,    1, 1668,    1],\n",
      "        [   1,    1,    1,  ...,    1,    3,    1]])\n",
      "tensor([[   2,    2,    2,  ...,    2,    2,    2],\n",
      "        [   5,    5, 3330,  ...,  849,   34, 4450],\n",
      "        [3056,   60,    3,  ..., 1333,   35,    3],\n",
      "        ...,\n",
      "        [   1,    1,    1,  ...,    1,    1,    1],\n",
      "        [   1,    1,    1,  ...,    1,    1,    1],\n",
      "        [   1,    1,    1,  ...,    1,    1,    1]])\n",
      "tensor([[   2,    2,    2,  ...,    2,    2,    2],\n",
      "        [ 376,  399,  154,  ...,  151, 3638,  792],\n",
      "        [  86,    4,  282,  ...,   13, 3639, 1325],\n",
      "        ...,\n",
      "        [   1,    1,    1,  ...,    1,    1,    1],\n",
      "        [   1,    1,    1,  ...,    1,    1,    1],\n",
      "        [   1,    1,    1,  ...,    1,    1,    1]])\n",
      "tensor([[   2,    2,    2,  ...,    2,    2,    2],\n",
      "        [2297, 2155, 4545,  ...,  446, 2269, 1661],\n",
      "        [   3,    3,   46,  ...,   13,   16,    3],\n",
      "        ...,\n",
      "        [   1,    1,    1,  ...,    1,    1,    1],\n",
      "        [   1,    1,    1,  ...,    1,    1,    1],\n",
      "        [   1,    1,    1,  ...,    1,    1,    1]])\n",
      "tensor([[   2,    2,    2,  ...,    2,    2,    2],\n",
      "        [ 206, 3588, 4479,  ...,  627, 3038,  846],\n",
      "        [ 207,   46, 4480,  ...,  894,    3,  847],\n",
      "        ...,\n",
      "        [   1,    1,    1,  ...,    1,    1,    1],\n",
      "        [   1,    1,    1,  ...,    1,    1,    1],\n",
      "        [   1,    1,    1,  ...,    1,    1,    1]])\n",
      "tensor([[   2,    2,    2,  ...,    2,    2,    2],\n",
      "        [1516,  546,  590,  ..., 1342,  291,  811],\n",
      "        [2824,   46,    3,  ..., 1845,    3,  147],\n",
      "        ...,\n",
      "        [   1,    1,    1,  ...,    1,    1,    1],\n",
      "        [   1,    1,    1,  ...,    1,    1,    1],\n",
      "        [   1,    1,    1,  ...,    1,    1,    1]])\n",
      "tensor([[   2,    2,    2,  ...,    2,    2,    2],\n",
      "        [ 429,  729,  953,  ..., 3753,  347, 2905],\n",
      "        [  52,    3,  954,  ..., 3754, 4516,  110],\n",
      "        ...,\n",
      "        [   1,    1,    1,  ...,    1,  110,    1],\n",
      "        [   1,    1,    1,  ...,    1, 2030,    1],\n",
      "        [   1,    1,    1,  ...,    1,    3,    1]])\n",
      "tensor([[   2,    2,    2,  ...,    2,    2,    2],\n",
      "        [3821,  352,  900,  ...,   54,    4, 4669],\n",
      "        [   3,    3,  901,  ..., 1987,  624,    3],\n",
      "        ...,\n",
      "        [   1,    1,    1,  ...,    1,    1,    1],\n",
      "        [   1,    1,    1,  ...,    1,    1,    1],\n",
      "        [   1,    1,    1,  ...,    1,    1,    1]])\n",
      "tensor([[   2,    2,    2,  ...,    2,    2,    2],\n",
      "        [ 667, 3054, 3346,  ...,  798,  718, 3118],\n",
      "        [   3,    3, 3347,  ...,    3,  407,    3],\n",
      "        ...,\n",
      "        [   1,    1,    1,  ...,    1,    1,    1],\n",
      "        [   1,    1,    1,  ...,    1,    1,    1],\n",
      "        [   1,    1,    1,  ...,    1,    1,    1]])\n",
      "tensor([[   2,    2,    2,  ...,    2,    2,    2],\n",
      "        [   5, 2738, 1662,  ..., 3034, 3571, 2723],\n",
      "        [2633,    3,    3,  ...,  110, 3576, 2499],\n",
      "        ...,\n",
      "        [   1,    1,    1,  ...,    1,    1,    1],\n",
      "        [   1,    1,    1,  ...,    1,    1,    1],\n",
      "        [   1,    1,    1,  ...,    1,    1,    1]])\n",
      "tensor([[   2,    2,    2,  ...,    2,    2,    2],\n",
      "        [1988,  656,  966,  ...,    5,   89,  365],\n",
      "        [1987,    3,    3,  ..., 1277,   90,    3],\n",
      "        ...,\n",
      "        [   1,    1,    1,  ...,    1,    1,    1],\n",
      "        [   1,    1,    1,  ...,    1,    1,    1],\n",
      "        [   1,    1,    1,  ...,    1,    1,    1]])\n",
      "tensor([[   2,    2,    2,  ...,    2,    2,    2],\n",
      "        [1014, 1427, 2627,  ...,  896, 1546, 1515],\n",
      "        [  13,    3,    3,  ...,  897,    3,    9],\n",
      "        ...,\n",
      "        [   1,    1,    1,  ...,    1,    1,    1],\n",
      "        [   1,    1,    1,  ...,    1,    1,    1],\n",
      "        [   1,    1,    1,  ...,    1,    1,    1]])\n",
      "tensor([[   2,    2,    2,  ...,    2,    2,    2],\n",
      "        [ 656,  486, 3690,  ...,  638,  261, 2297],\n",
      "        [   3,    3,    3,  ..., 2752,    3,    3],\n",
      "        ...,\n",
      "        [   1,    1,    1,  ...,    1,    1,    1],\n",
      "        [   1,    1,    1,  ...,    1,    1,    1],\n",
      "        [   1,    1,    1,  ...,    1,    1,    1]])\n",
      "tensor([[   2,    2,    2,  ...,    2,    2,    2],\n",
      "        [3050, 3172,  266,  ..., 2239, 3281, 4766],\n",
      "        [   3, 2127,  267,  ...,  694,    3,    3],\n",
      "        ...,\n",
      "        [   1,    1,    1,  ...,    1,    1,    1],\n",
      "        [   1,    1,    1,  ...,    1,    1,    1],\n",
      "        [   1,    1,    1,  ...,    1,    1,    1]])\n",
      "tensor([[   2,    2,    2,  ...,    2,    2,    2],\n",
      "        [ 184, 2245, 2073,  ..., 2512, 2640,  908],\n",
      "        [ 359,    3, 2138,  ...,    3, 2641, 2580],\n",
      "        ...,\n",
      "        [   1,    1,    1,  ...,    1,    1,    1],\n",
      "        [   1,    1,    1,  ...,    1,    1,    1],\n",
      "        [   1,    1,    1,  ...,    1,    1,    1]])\n",
      "tensor([[   2,    2,    2,  ...,    2,    2,    2],\n",
      "        [3503, 1050,  429,  ..., 3289, 2072, 1642],\n",
      "        [1987,    3,    3,  ...,   52,    3, 2624],\n",
      "        ...,\n",
      "        [   1,    1,    1,  ...,    1,    1,    1],\n",
      "        [   1,    1,    1,  ...,    1,    1,    1],\n",
      "        [   1,    1,    1,  ...,    1,    1,    1]])\n",
      "tensor([[   2,    2,    2,  ...,    2,    2,    2],\n",
      "        [2495,   26, 2731,  ..., 1075,  987, 2692],\n",
      "        [   3,   27,    3,  ..., 3312,    3, 2494],\n",
      "        ...,\n",
      "        [   1,    1,    1,  ...,    1,    1,    1],\n",
      "        [   1,    1,    1,  ...,    1,    1,    1],\n",
      "        [   1,    1,    1,  ...,    1,    1,    1]])\n",
      "tensor([[   2,    2,    2,  ...,    2,    2,    2],\n",
      "        [ 293, 2175, 2027,  ...,  401, 2751,  895],\n",
      "        [4326,    9,    3,  ...,  402,    3, 4565],\n",
      "        ...,\n",
      "        [   1,    1,    1,  ...,    1,    1,    1],\n",
      "        [   1,    1,    1,  ...,    1,    1,    1],\n",
      "        [   1,    1,    1,  ...,    1,    1,    1]])\n",
      "tensor([[   2,    2,    2,  ...,    2,    2,    2],\n",
      "        [3241, 3665,  154,  ..., 2672, 2125,  890],\n",
      "        [   3,    3, 4267,  ...,    3,  110,  891],\n",
      "        ...,\n",
      "        [   1,    1,    1,  ...,    1,    1,    1],\n",
      "        [   1,    1,    1,  ...,    1,    1,    1],\n",
      "        [   1,    1,    1,  ...,    1,    1,    1]])\n",
      "tensor([[   2,    2,    2,  ...,    2,    2,    2],\n",
      "        [1051,  386, 3709,  ...,  202,    5,   28],\n",
      "        [1052, 1479,  101,  ...,    3, 4060, 1105],\n",
      "        ...,\n",
      "        [   1,    1,    1,  ...,    1,    1,    1],\n",
      "        [   1,    1,    1,  ...,    1,    1,    1],\n",
      "        [   1,    1,    1,  ...,    1,    1,    1]])\n",
      "tensor([[   2,    2,    2,  ...,    2,    2,    2],\n",
      "        [3172, 2071,  776,  ..., 2591,  216,  977],\n",
      "        [2127, 2189,   13,  ...,    4,    3,  978],\n",
      "        ...,\n",
      "        [   1,    1,    1,  ...,    1,    1,    1],\n",
      "        [   1,    1,    1,  ...,    1,    1,    1],\n",
      "        [   1,    1,    1,  ...,    1,    1,    1]])\n",
      "tensor([[   2,    2,    2,  ...,    2,    2,    2],\n",
      "        [ 479, 3822,  148,  ...,  615,  121, 2328],\n",
      "        [1850, 3823,  142,  ...,    3, 2756,  110],\n",
      "        ...,\n",
      "        [   1,    1,    1,  ...,    1,    1,    1],\n",
      "        [   1,    1,    1,  ...,    1,    1,    1],\n",
      "        [   1,    1,    1,  ...,    1,    1,    1]])\n",
      "tensor([[   2,    2,    2,    2,    2,    2,    2,    2],\n",
      "        [ 154,   49, 3484,  628, 4691,  154, 4381,  351],\n",
      "        [ 605,    3,   46,  624,    3, 4736,    3,    3],\n",
      "        [   3,    1, 3485,  629,    1,  110,    1,    1],\n",
      "        [   1,    1,    3,  373,    1, 4737,    1,    1],\n",
      "        [   1,    1,    1,    3,    1,  645,    1,    1],\n",
      "        [   1,    1,    1,    1,    1, 4738,    1,    1],\n",
      "        [   1,    1,    1,    1,    1, 4739,    1,    1],\n",
      "        [   1,    1,    1,    1,    1,  648,    1,    1],\n",
      "        [   1,    1,    1,    1,    1,    3,    1,    1]])\n"
     ]
    }
   ],
   "source": [
    "for _, (src, trg) in enumerate(train_iter):\n",
    "    print(trg)"
   ]
  },
  {
   "cell_type": "code",
   "execution_count": 140,
   "metadata": {},
   "outputs": [
    {
     "data": {
      "text/plain": [
       "'bentrevett/pytorch-seq2seq\\nhttps://github.com/bentrevett/pytorch-seq2seq/blob/master/1%20-%20Sequence%20to%20Sequence%20Learning%20with%20Neural%20Networks.ipynb\\nSome Encoder/decoder/seqtoSeq methods are taken from this tutorial\\n'"
      ]
     },
     "execution_count": 140,
     "metadata": {},
     "output_type": "execute_result"
    }
   ],
   "source": [
    "'''bentrevett/pytorch-seq2seq\n",
    "https://github.com/bentrevett/pytorch-seq2seq/blob/master/1%20-%20Sequence%20to%20Sequence%20Learning%20with%20Neural%20Networks.ipynb\n",
    "Some Encoder/decoder/seqtoSeq methods are taken from this tutorial\n",
    "'''\n"
   ]
  },
  {
   "cell_type": "code",
   "execution_count": 19,
   "metadata": {},
   "outputs": [],
   "source": [
    "import random\n",
    "from typing import Tuple\n",
    "\n",
    "import torch.nn as nn\n",
    "import torch.optim as optim\n",
    "import torch.nn.functional as F\n",
    "from torch import Tensor\n",
    "\n",
    "class Encoder(nn.Module):\n",
    "    def __init__(self,\n",
    "                 input_dim: int,\n",
    "                 emb_dim: int,\n",
    "                 hid_dim: int,\n",
    "                 n_layers: int,\n",
    "                 dropout: float):\n",
    "        super().__init__()\n",
    "\n",
    "        self.hid_dim = hid_dim\n",
    "        self.n_layers = n_layers\n",
    "        \n",
    "        self.embedding = nn.Embedding(input_dim, emb_dim)\n",
    "        \n",
    "        self.rnn = nn.LSTM(emb_dim, hid_dim, n_layers, dropout = dropout)\n",
    "        \n",
    "        self.dropout = nn.Dropout(dropout)\n",
    "        \n",
    "    def forward(self, src):\n",
    "        \n",
    "        #src = [src len, batch size]\n",
    "        \n",
    "        embedded = self.dropout(self.embedding(src))\n",
    "        \n",
    "        #embedded = [src len, batch size, emb dim]\n",
    "        \n",
    "        outputs, (hidden, cell) = self.rnn(embedded)\n",
    "        \n",
    "        #outputs = [src len, batch size, hid dim * n directions]\n",
    "        #hidden = [n layers * n directions, batch size, hid dim]\n",
    "        #cell = [n layers * n directions, batch size, hid dim]\n",
    "        \n",
    "        #outputs are always from the top hidden layer\n",
    "        \n",
    "        return hidden, cell"
   ]
  },
  {
   "cell_type": "code",
   "execution_count": 20,
   "metadata": {},
   "outputs": [],
   "source": [
    "class Decoder(nn.Module):\n",
    "    def __init__(self,\n",
    "                 output_dim: int,\n",
    "                 emb_dim: int,\n",
    "                 hid_dim: int,\n",
    "                 n_layers: int,\n",
    "                 dropout: int):\n",
    "        super().__init__()\n",
    "\n",
    "        self.output_dim = output_dim\n",
    "        self.hid_dim = hid_dim\n",
    "        self.n_layers = n_layers\n",
    "        \n",
    "        self.embedding = nn.Embedding(output_dim, emb_dim)\n",
    "        \n",
    "        self.rnn = nn.LSTM(emb_dim, hid_dim, n_layers, dropout = dropout)\n",
    "        \n",
    "        self.fc_out = nn.Linear(hid_dim, output_dim)\n",
    "        \n",
    "        self.dropout = nn.Dropout(dropout)\n",
    "        \n",
    "    def forward(self, input, hidden, cell):\n",
    "              \n",
    "        input = input.unsqueeze(0)\n",
    "               \n",
    "        embedded = self.dropout(self.embedding(input))\n",
    " \n",
    "        output, (hidden, cell) = self.rnn(embedded, (hidden, cell))\n",
    "        \n",
    "        prediction = self.fc_out(output.squeeze(0))\n",
    "                \n",
    "        return prediction, hidden, cell"
   ]
  },
  {
   "cell_type": "code",
   "execution_count": 21,
   "metadata": {},
   "outputs": [],
   "source": [
    "class Seq2Seq(nn.Module):\n",
    "    def __init__(self,\n",
    "                 encoder: nn.Module,\n",
    "                 decoder: nn.Module,\n",
    "                 device: torch.device):\n",
    "        super().__init__()\n",
    "\n",
    "        self.encoder = encoder\n",
    "        self.decoder = decoder\n",
    "        self.device = device\n",
    "\n",
    "    def forward(self,\n",
    "                src: Tensor,\n",
    "                trg: Tensor,\n",
    "                teacher_forcing_ratio: float = 0.5) -> Tensor:\n",
    "\n",
    "        batch_size = src.shape[1]\n",
    "        max_len = trg.shape[0]\n",
    "        trg_vocab_size = self.decoder.output_dim\n",
    "\n",
    "        outputs = torch.zeros(max_len, batch_size, trg_vocab_size).to(self.device)\n",
    "\n",
    "        hidden, cell = self.encoder(src)\n",
    "\n",
    "        # first input to the decoder is the <sos> token\n",
    "        output = trg[0,:]\n",
    "\n",
    "        for t in range(1, max_len):\n",
    "            output, hidden, cell = self.decoder(output, hidden, cell)\n",
    "            outputs[t] = output\n",
    "            teacher_force = random.random() < teacher_forcing_ratio\n",
    "            top1 = output.max(1)[1]\n",
    "            output = (trg[t] if teacher_force else top1)\n",
    "\n",
    "        return outputs\n"
   ]
  },
  {
   "cell_type": "code",
   "execution_count": null,
   "metadata": {},
   "outputs": [],
   "source": []
  },
  {
   "cell_type": "code",
   "execution_count": 22,
   "metadata": {},
   "outputs": [
    {
     "name": "stdout",
     "output_type": "stream",
     "text": [
      "6266\n",
      "4781\n",
      "The model has 12,637,101 trainable parameters\n"
     ]
    }
   ],
   "source": [
    "INPUT_DIM = len(question_vocab)\n",
    "print(INPUT_DIM)\n",
    "OUTPUT_DIM = len(answer_vocab)\n",
    "print(OUTPUT_DIM)\n",
    "# ENC_EMB_DIM = 256\n",
    "# DEC_EMB_DIM = 256\n",
    "# ENC_HID_DIM = 512\n",
    "# DEC_HID_DIM = 512\n",
    "# ATTN_DIM = 64\n",
    "# ENC_DROPOUT = 0.5\n",
    "# DEC_DROPOUT = 0.5\n",
    "\n",
    "ENC_EMB_DIM = 256\n",
    "DEC_EMB_DIM = 256\n",
    "N_LAYERS = 2\n",
    "HID_DIM = 512\n",
    "ENC_DROPOUT = 0.5\n",
    "DEC_DROPOUT = 0.5\n",
    "\n",
    "enc = Encoder(INPUT_DIM, ENC_EMB_DIM, HID_DIM, N_LAYERS, ENC_DROPOUT)\n",
    "\n",
    "#attn = Attention(ENC_HID_DIM, DEC_HID_DIM, ATTN_DIM)\n",
    "\n",
    "dec = Decoder(OUTPUT_DIM, DEC_EMB_DIM, HID_DIM, N_LAYERS, DEC_DROPOUT)\n",
    "\n",
    "model = Seq2Seq(enc, dec, device).to(device)\n",
    "\n",
    "\n",
    "def init_weights(m: nn.Module):\n",
    "    for name, param in m.named_parameters():\n",
    "        if 'weight' in name:\n",
    "            nn.init.normal_(param.data, mean=0, std=0.01)\n",
    "        else:\n",
    "            nn.init.constant_(param.data, 0)\n",
    "\n",
    "\n",
    "model.apply(init_weights)\n",
    "\n",
    "optimizer = optim.Adam(model.parameters())\n",
    "\n",
    "\n",
    "def count_parameters(model: nn.Module):\n",
    "    return sum(p.numel() for p in model.parameters() if p.requires_grad)\n",
    "\n",
    "\n",
    "print(f'The model has {count_parameters(model):,} trainable parameters')"
   ]
  },
  {
   "cell_type": "code",
   "execution_count": 23,
   "metadata": {},
   "outputs": [
    {
     "name": "stdout",
     "output_type": "stream",
     "text": [
      "1\n"
     ]
    }
   ],
   "source": [
    "PAD_IDX = question_vocab.get_stoi()['<pad>']\n",
    "print(PAD_IDX)\n",
    "criterion = nn.CrossEntropyLoss(ignore_index=PAD_IDX)"
   ]
  },
  {
   "cell_type": "code",
   "execution_count": 123,
   "metadata": {},
   "outputs": [
    {
     "name": "stdout",
     "output_type": "stream",
     "text": [
      "Epoch: 01 | Time: 0m 16s\n",
      "\tTrain Loss: 4.148 | Train PPL:  63.332\n",
      "\t Val. Loss: 9.658 |  Val. PPL: 15645.362\n",
      "Epoch: 02 | Time: 0m 15s\n",
      "\tTrain Loss: 4.051 | Train PPL:  57.427\n",
      "\t Val. Loss: 9.675 |  Val. PPL: 15917.444\n",
      "Epoch: 03 | Time: 0m 15s\n",
      "\tTrain Loss: 4.035 | Train PPL:  56.539\n",
      "\t Val. Loss: 9.627 |  Val. PPL: 15173.870\n",
      "Epoch: 04 | Time: 0m 15s\n",
      "\tTrain Loss: 4.031 | Train PPL:  56.340\n",
      "\t Val. Loss: 9.558 |  Val. PPL: 14153.481\n",
      "Epoch: 05 | Time: 0m 15s\n",
      "\tTrain Loss: 3.943 | Train PPL:  51.558\n",
      "\t Val. Loss: 9.706 |  Val. PPL: 16416.620\n",
      "Epoch: 06 | Time: 0m 15s\n",
      "\tTrain Loss: 3.869 | Train PPL:  47.877\n",
      "\t Val. Loss: 9.828 |  Val. PPL: 18554.628\n",
      "Epoch: 07 | Time: 0m 15s\n",
      "\tTrain Loss: 3.861 | Train PPL:  47.513\n",
      "\t Val. Loss: 9.818 |  Val. PPL: 18362.233\n",
      "Epoch: 08 | Time: 0m 15s\n",
      "\tTrain Loss: 3.746 | Train PPL:  42.340\n",
      "\t Val. Loss: 9.897 |  Val. PPL: 19876.090\n",
      "Epoch: 09 | Time: 0m 15s\n",
      "\tTrain Loss: 3.801 | Train PPL:  44.766\n",
      "\t Val. Loss: 9.957 |  Val. PPL: 21094.882\n",
      "Epoch: 10 | Time: 0m 15s\n",
      "\tTrain Loss: 3.740 | Train PPL:  42.119\n",
      "\t Val. Loss: 9.955 |  Val. PPL: 21057.302\n",
      "Epoch: 11 | Time: 0m 15s\n",
      "\tTrain Loss: 3.603 | Train PPL:  36.726\n",
      "\t Val. Loss: 10.031 |  Val. PPL: 22708.907\n",
      "Epoch: 12 | Time: 0m 15s\n",
      "\tTrain Loss: 3.621 | Train PPL:  37.368\n",
      "\t Val. Loss: 10.033 |  Val. PPL: 22766.759\n",
      "Epoch: 13 | Time: 0m 15s\n",
      "\tTrain Loss: 3.504 | Train PPL:  33.260\n",
      "\t Val. Loss: 10.111 |  Val. PPL: 24601.171\n",
      "Epoch: 14 | Time: 0m 15s\n",
      "\tTrain Loss: 3.505 | Train PPL:  33.291\n",
      "\t Val. Loss: 10.183 |  Val. PPL: 26456.410\n",
      "Epoch: 15 | Time: 0m 15s\n",
      "\tTrain Loss: 3.471 | Train PPL:  32.172\n",
      "\t Val. Loss: 10.182 |  Val. PPL: 26420.410\n",
      "Epoch: 16 | Time: 0m 16s\n",
      "\tTrain Loss: 3.460 | Train PPL:  31.813\n",
      "\t Val. Loss: 10.151 |  Val. PPL: 25623.646\n",
      "Epoch: 17 | Time: 0m 16s\n",
      "\tTrain Loss: 3.367 | Train PPL:  28.993\n",
      "\t Val. Loss: 10.205 |  Val. PPL: 27027.217\n",
      "Epoch: 18 | Time: 0m 15s\n",
      "\tTrain Loss: 3.254 | Train PPL:  25.902\n",
      "\t Val. Loss: 10.365 |  Val. PPL: 31729.527\n",
      "Epoch: 19 | Time: 0m 15s\n",
      "\tTrain Loss: 3.239 | Train PPL:  25.502\n",
      "\t Val. Loss: 10.407 |  Val. PPL: 33075.172\n",
      "Epoch: 20 | Time: 0m 15s\n",
      "\tTrain Loss: 3.296 | Train PPL:  27.002\n",
      "\t Val. Loss: 10.339 |  Val. PPL: 30902.552\n",
      "Epoch: 21 | Time: 0m 15s\n",
      "\tTrain Loss: 3.139 | Train PPL:  23.083\n",
      "\t Val. Loss: 10.476 |  Val. PPL: 35470.319\n",
      "Epoch: 22 | Time: 0m 15s\n",
      "\tTrain Loss: 3.173 | Train PPL:  23.887\n",
      "\t Val. Loss: 10.469 |  Val. PPL: 35221.331\n",
      "Epoch: 23 | Time: 0m 15s\n",
      "\tTrain Loss: 3.064 | Train PPL:  21.403\n",
      "\t Val. Loss: 10.542 |  Val. PPL: 37861.416\n",
      "Epoch: 24 | Time: 0m 15s\n",
      "\tTrain Loss: 3.058 | Train PPL:  21.281\n",
      "\t Val. Loss: 10.520 |  Val. PPL: 37051.597\n",
      "Epoch: 25 | Time: 0m 15s\n",
      "\tTrain Loss: 3.059 | Train PPL:  21.308\n",
      "\t Val. Loss: 10.570 |  Val. PPL: 38932.585\n",
      "Epoch: 26 | Time: 0m 15s\n",
      "\tTrain Loss: 2.879 | Train PPL:  17.789\n",
      "\t Val. Loss: 10.653 |  Val. PPL: 42302.043\n",
      "Epoch: 27 | Time: 0m 15s\n",
      "\tTrain Loss: 2.976 | Train PPL:  19.615\n",
      "\t Val. Loss: 10.642 |  Val. PPL: 41847.724\n",
      "Epoch: 28 | Time: 0m 15s\n",
      "\tTrain Loss: 2.911 | Train PPL:  18.375\n",
      "\t Val. Loss: 10.698 |  Val. PPL: 44255.581\n",
      "Epoch: 29 | Time: 0m 15s\n",
      "\tTrain Loss: 2.836 | Train PPL:  17.045\n",
      "\t Val. Loss: 10.709 |  Val. PPL: 44765.800\n",
      "Epoch: 30 | Time: 0m 15s\n",
      "\tTrain Loss: 2.604 | Train PPL:  13.514\n",
      "\t Val. Loss: 10.895 |  Val. PPL: 53900.439\n",
      "Epoch: 31 | Time: 0m 15s\n",
      "\tTrain Loss: 2.735 | Train PPL:  15.410\n",
      "\t Val. Loss: 10.800 |  Val. PPL: 49000.625\n",
      "Epoch: 32 | Time: 0m 15s\n",
      "\tTrain Loss: 2.625 | Train PPL:  13.808\n",
      "\t Val. Loss: 10.936 |  Val. PPL: 56149.566\n",
      "Epoch: 33 | Time: 0m 15s\n",
      "\tTrain Loss: 2.664 | Train PPL:  14.351\n",
      "\t Val. Loss: 10.881 |  Val. PPL: 53176.394\n",
      "Epoch: 34 | Time: 0m 15s\n",
      "\tTrain Loss: 2.510 | Train PPL:  12.301\n",
      "\t Val. Loss: 11.009 |  Val. PPL: 60392.763\n",
      "Epoch: 35 | Time: 0m 15s\n",
      "\tTrain Loss: 2.551 | Train PPL:  12.820\n",
      "\t Val. Loss: 11.011 |  Val. PPL: 60524.733\n",
      "Epoch: 36 | Time: 0m 15s\n",
      "\tTrain Loss: 2.441 | Train PPL:  11.484\n",
      "\t Val. Loss: 10.947 |  Val. PPL: 56807.242\n",
      "Epoch: 37 | Time: 0m 15s\n",
      "\tTrain Loss: 2.349 | Train PPL:  10.478\n",
      "\t Val. Loss: 11.114 |  Val. PPL: 67086.980\n",
      "Epoch: 38 | Time: 0m 15s\n",
      "\tTrain Loss: 2.385 | Train PPL:  10.861\n",
      "\t Val. Loss: 11.061 |  Val. PPL: 63638.773\n",
      "Epoch: 39 | Time: 0m 15s\n",
      "\tTrain Loss: 2.347 | Train PPL:  10.455\n",
      "\t Val. Loss: 11.159 |  Val. PPL: 70159.623\n",
      "Epoch: 40 | Time: 0m 15s\n",
      "\tTrain Loss: 2.229 | Train PPL:   9.295\n",
      "\t Val. Loss: 11.247 |  Val. PPL: 76650.289\n",
      "Epoch: 41 | Time: 0m 15s\n",
      "\tTrain Loss: 2.119 | Train PPL:   8.321\n",
      "\t Val. Loss: 11.298 |  Val. PPL: 80660.171\n",
      "Epoch: 42 | Time: 0m 15s\n",
      "\tTrain Loss: 2.194 | Train PPL:   8.971\n",
      "\t Val. Loss: 11.386 |  Val. PPL: 88046.871\n",
      "Epoch: 43 | Time: 0m 16s\n",
      "\tTrain Loss: 2.097 | Train PPL:   8.140\n",
      "\t Val. Loss: 11.303 |  Val. PPL: 81092.438\n",
      "Epoch: 44 | Time: 0m 16s\n",
      "\tTrain Loss: 2.073 | Train PPL:   7.947\n",
      "\t Val. Loss: 11.500 |  Val. PPL: 98688.306\n",
      "Epoch: 45 | Time: 0m 15s\n",
      "\tTrain Loss: 1.949 | Train PPL:   7.022\n",
      "\t Val. Loss: 11.513 |  Val. PPL: 100036.777\n",
      "Epoch: 46 | Time: 0m 16s\n",
      "\tTrain Loss: 2.027 | Train PPL:   7.595\n",
      "\t Val. Loss: 11.558 |  Val. PPL: 104602.541\n",
      "Epoch: 47 | Time: 0m 15s\n",
      "\tTrain Loss: 1.873 | Train PPL:   6.509\n",
      "\t Val. Loss: 11.620 |  Val. PPL: 111343.238\n",
      "Epoch: 48 | Time: 0m 15s\n",
      "\tTrain Loss: 1.759 | Train PPL:   5.804\n",
      "\t Val. Loss: 11.659 |  Val. PPL: 115756.506\n",
      "Epoch: 49 | Time: 0m 16s\n",
      "\tTrain Loss: 1.880 | Train PPL:   6.554\n",
      "\t Val. Loss: 11.682 |  Val. PPL: 118366.973\n",
      "Epoch: 50 | Time: 0m 15s\n",
      "\tTrain Loss: 1.740 | Train PPL:   5.698\n",
      "\t Val. Loss: 11.767 |  Val. PPL: 128971.787\n",
      "Epoch: 51 | Time: 0m 15s\n",
      "\tTrain Loss: 1.677 | Train PPL:   5.347\n",
      "\t Val. Loss: 11.799 |  Val. PPL: 133085.231\n",
      "Epoch: 52 | Time: 0m 15s\n",
      "\tTrain Loss: 1.687 | Train PPL:   5.405\n",
      "\t Val. Loss: 11.804 |  Val. PPL: 133753.720\n",
      "Epoch: 53 | Time: 0m 15s\n",
      "\tTrain Loss: 1.594 | Train PPL:   4.925\n",
      "\t Val. Loss: 11.882 |  Val. PPL: 144669.820\n",
      "Epoch: 54 | Time: 0m 15s\n",
      "\tTrain Loss: 1.548 | Train PPL:   4.701\n",
      "\t Val. Loss: 11.958 |  Val. PPL: 156105.064\n",
      "Epoch: 55 | Time: 0m 15s\n",
      "\tTrain Loss: 1.550 | Train PPL:   4.710\n",
      "\t Val. Loss: 12.010 |  Val. PPL: 164443.407\n",
      "Epoch: 56 | Time: 0m 15s\n",
      "\tTrain Loss: 1.469 | Train PPL:   4.343\n",
      "\t Val. Loss: 12.077 |  Val. PPL: 175817.960\n",
      "Epoch: 57 | Time: 0m 15s\n",
      "\tTrain Loss: 1.384 | Train PPL:   3.991\n",
      "\t Val. Loss: 12.193 |  Val. PPL: 197337.573\n",
      "Epoch: 58 | Time: 0m 16s\n",
      "\tTrain Loss: 1.275 | Train PPL:   3.578\n",
      "\t Val. Loss: 12.319 |  Val. PPL: 223881.328\n",
      "Epoch: 59 | Time: 0m 15s\n",
      "\tTrain Loss: 1.314 | Train PPL:   3.720\n",
      "\t Val. Loss: 12.263 |  Val. PPL: 211610.742\n",
      "Epoch: 60 | Time: 0m 15s\n",
      "\tTrain Loss: 1.283 | Train PPL:   3.607\n",
      "\t Val. Loss: 12.327 |  Val. PPL: 225776.830\n",
      "Epoch: 61 | Time: 0m 15s\n",
      "\tTrain Loss: 1.225 | Train PPL:   3.403\n",
      "\t Val. Loss: 12.294 |  Val. PPL: 218419.054\n",
      "Epoch: 62 | Time: 0m 15s\n",
      "\tTrain Loss: 1.219 | Train PPL:   3.385\n",
      "\t Val. Loss: 12.404 |  Val. PPL: 243832.186\n",
      "Epoch: 63 | Time: 0m 15s\n",
      "\tTrain Loss: 1.151 | Train PPL:   3.161\n",
      "\t Val. Loss: 12.499 |  Val. PPL: 268013.185\n",
      "Epoch: 64 | Time: 0m 16s\n",
      "\tTrain Loss: 1.149 | Train PPL:   3.154\n",
      "\t Val. Loss: 12.416 |  Val. PPL: 246784.027\n",
      "Epoch: 65 | Time: 0m 15s\n",
      "\tTrain Loss: 1.007 | Train PPL:   2.738\n",
      "\t Val. Loss: 12.588 |  Val. PPL: 293124.190\n"
     ]
    }
   ],
   "source": [
    "import math\n",
    "import time\n",
    "\n",
    "\n",
    "def train(model: nn.Module,\n",
    "          iterator: torch.utils.data.DataLoader,\n",
    "          optimizer: optim.Optimizer,\n",
    "          criterion: nn.Module,\n",
    "          clip: float):\n",
    "\n",
    "    model.train()\n",
    "\n",
    "    epoch_loss = 0\n",
    "\n",
    "    for _, (src, trg) in enumerate(iterator):\n",
    "        src, trg = src.to(device), trg.to(device)\n",
    "\n",
    "        optimizer.zero_grad()\n",
    "\n",
    "        output = model(src, trg)\n",
    "\n",
    "        output = output[1:].view(-1, output.shape[-1])\n",
    "        trg = trg[1:].view(-1)\n",
    "\n",
    "        loss = criterion(output, trg)\n",
    "\n",
    "        loss.backward()\n",
    "\n",
    "        torch.nn.utils.clip_grad_norm_(model.parameters(), clip)\n",
    "\n",
    "        optimizer.step()\n",
    "\n",
    "        epoch_loss += loss.item()\n",
    "\n",
    "    return epoch_loss / len(iterator)\n",
    "\n",
    "\n",
    "def evaluate(model: nn.Module,\n",
    "             iterator: torch.utils.data.DataLoader,\n",
    "             criterion: nn.Module):\n",
    "\n",
    "    model.eval()\n",
    "\n",
    "    epoch_loss = 0\n",
    "\n",
    "    with torch.no_grad():\n",
    "\n",
    "        for _, (src, trg) in enumerate(iterator):\n",
    "            src, trg = src.to(device), trg.to(device)\n",
    "            output = model(src, trg, 0) #turn off teacher forcing\n",
    "\n",
    "            output = output[1:].view(-1, output.shape[-1])\n",
    "            trg = trg[1:].view(-1)\n",
    "\n",
    "            loss = criterion(output, trg)\n",
    "\n",
    "            epoch_loss += loss.item()\n",
    "\n",
    "    return epoch_loss / len(iterator)\n",
    "\n",
    "\n",
    "def epoch_time(start_time: int,\n",
    "               end_time: int):\n",
    "    elapsed_time = end_time - start_time\n",
    "    elapsed_mins = int(elapsed_time / 60)\n",
    "    elapsed_secs = int(elapsed_time - (elapsed_mins * 60))\n",
    "    return elapsed_mins, elapsed_secs\n",
    "\n",
    "\n",
    "N_EPOCHS = 65\n",
    "CLIP = 1\n",
    "\n",
    "best_valid_loss = float('inf')\n",
    "\n",
    "for epoch in range(N_EPOCHS):\n",
    "\n",
    "    start_time = time.time()\n",
    "\n",
    "    train_loss = train(model, train_iter, optimizer, criterion, CLIP)\n",
    "    valid_loss = evaluate(model, valid_iter, criterion)\n",
    "\n",
    "    end_time = time.time()\n",
    "\n",
    "    epoch_mins, epoch_secs = epoch_time(start_time, end_time)\n",
    "\n",
    "    print(f'Epoch: {epoch+1:02} | Time: {epoch_mins}m {epoch_secs}s')\n",
    "    print(f'\\tTrain Loss: {train_loss:.3f} | Train PPL: {math.exp(train_loss):7.3f}')\n",
    "    print(f'\\t Val. Loss: {valid_loss:.3f} |  Val. PPL: {math.exp(valid_loss):7.3f}')\n",
    "    \n",
    "    if valid_loss < best_valid_loss:\n",
    "        best_valid_loss = valid_loss\n",
    "        torch.save(model.state_dict(), 'QA-model_04_22_2023_65_EPOCHS.pt')\n",
    "\n",
    "#test_loss = evaluate(model, test_iter, criterion)\n",
    "\n",
    "#print(f'| Test Loss: {test_loss:.3f} | Test PPL: {math.exp(test_loss):7.3f} |')"
   ]
  },
  {
   "cell_type": "code",
   "execution_count": null,
   "metadata": {},
   "outputs": [],
   "source": [
    "model.load_state_dict(torch.load('QA-model_04_22_2023_65_EPOCHS.pt'))"
   ]
  },
  {
   "cell_type": "code",
   "execution_count": 124,
   "metadata": {},
   "outputs": [],
   "source": [
    "\n",
    "def chat_evaluate(model: nn.Module,\n",
    "             iterator: torch.utils.data.DataLoader,\n",
    "             criterion: nn.Module):\n",
    "\n",
    "    model.eval()\n",
    "\n",
    "    epoch_loss = 0\n",
    "\n",
    "    with torch.no_grad():\n",
    "\n",
    "        for _, (src, trg) in enumerate(iterator):\n",
    "            src, trg = src.to(device), trg.to(device)\n",
    "            output = model(src, trg, 0) #turn off teacher forcing\n",
    "            output = output[1:].view(-1, output.shape[-1])\n",
    "            trg = trg[1:].view(-1)\n",
    "            loss = criterion(output, trg)\n",
    "\n",
    "            epoch_loss += loss.item()\n",
    "            result = []\n",
    "            for tensor in output:\n",
    "                _, top_token = tensor.data.topk(1)\n",
    "                if top_token.item() == 1:\n",
    "                    break\n",
    "                else:\n",
    "                    word = answer_vocab.get_itos()[top_token.item()]\n",
    "                    result.append(word)     \n",
    "            return  result\n",
    "\n",
    "\n",
    "def generate_test_batch(data_batch):\n",
    "    de_batch, en_batch = [], []\n",
    "    for (de_item, en_item) in data_batch:\n",
    "        de_batch.append(torch.cat([torch.tensor([BOS_IDX]), de_item, torch.tensor([EOS_IDX])], dim=0))\n",
    "        en_batch.append(torch.cat([torch.tensor([BOS_IDX]), en_item, torch.tensor([EOS_IDX])], dim=0))\n",
    "        de = pad_sequence(de_batch, padding_value=PAD_IDX)\n",
    "        en = pad_sequence(en_batch, padding_value=PAD_IDX)\n",
    "    return de, en\n"
   ]
  },
  {
   "cell_type": "code",
   "execution_count": 125,
   "metadata": {},
   "outputs": [
    {
     "name": "stdout",
     "output_type": "stream",
     "text": [
      "                                               question answers\n",
      "4148  If someone serves three consecutive terms as m...    four\n",
      "Answer: ['four', '<eos>']\n"
     ]
    }
   ],
   "source": [
    "pd.set_option('display.max_rows', None)\n",
    "dt_test = df_train.sample(n = 1)\n",
    "#dt_test\n",
    "dt_test_1 = dt_test.head(1)\n",
    "print(dt_test_1)\n",
    "test_data = data_process(dt_test_1)\n",
    "test_iter = DataLoader(test_data, batch_size=BATCH_SIZE,\n",
    "                       shuffle=True, collate_fn=generate_test_batch)\n",
    "\n",
    "next(iter(test_iter))\n",
    "\n",
    "result = chat_evaluate(model, test_iter, criterion)\n",
    "print('Answer:', result)"
   ]
  },
  {
   "cell_type": "code",
   "execution_count": 126,
   "metadata": {},
   "outputs": [
    {
     "name": "stdout",
     "output_type": "stream",
     "text": [
      "                                     question   answers\n",
      "5290  Who has the power to destroy bad karma?  Amitābha\n",
      "Answer: ['H&M', '<eos>']\n"
     ]
    }
   ],
   "source": [
    "pd.set_option('display.max_rows', None)\n",
    "dt_test = df_train.sample(n = 1)\n",
    "#dt_test\n",
    "dt_test_1 = dt_test.head(1)\n",
    "print(dt_test_1)\n",
    "test_data = data_process(dt_test_1)\n",
    "test_iter = DataLoader(test_data, batch_size=BATCH_SIZE,\n",
    "                       shuffle=True, collate_fn=generate_test_batch)\n",
    "\n",
    "next(iter(test_iter))\n",
    "\n",
    "result = chat_evaluate(model, test_iter, criterion)\n",
    "print('Answer:', result)"
   ]
  },
  {
   "cell_type": "markdown",
   "metadata": {},
   "source": []
  },
  {
   "cell_type": "code",
   "execution_count": 128,
   "metadata": {},
   "outputs": [
    {
     "name": "stdout",
     "output_type": "stream",
     "text": [
      "                                               question            answers\n",
      "4528  Over 90% of homes use solar hot water systems ...  Israel and Cyprus\n",
      "Answer: ['Israel', 'and', 'Cyprus', '<eos>']\n"
     ]
    }
   ],
   "source": [
    "pd.set_option('display.max_rows', None)\n",
    "dt_test = df_train.sample(n = 1)\n",
    "#dt_test\n",
    "dt_test_1 = dt_test.head(1)\n",
    "print(dt_test_1)\n",
    "test_data = data_process(dt_test_1)\n",
    "test_iter = DataLoader(test_data, batch_size=BATCH_SIZE,\n",
    "                       shuffle=True, collate_fn=generate_test_batch)\n",
    "\n",
    "next(iter(test_iter))\n",
    "\n",
    "result = chat_evaluate(model, test_iter, criterion)\n",
    "print('Answer:', result)"
   ]
  },
  {
   "cell_type": "code",
   "execution_count": 129,
   "metadata": {},
   "outputs": [
    {
     "name": "stdout",
     "output_type": "stream",
     "text": [
      "                                            question            answers\n",
      "3001  What were they using the airport to stage for?  relief operations\n",
      "Answer: ['relief', 'operations', '<eos>']\n"
     ]
    }
   ],
   "source": [
    "pd.set_option('display.max_rows', None)\n",
    "dt_test = df_train.sample(n = 1)\n",
    "#dt_test\n",
    "dt_test_1 = dt_test.head(1)\n",
    "print(dt_test_1)\n",
    "test_data = data_process(dt_test_1)\n",
    "test_iter = DataLoader(test_data, batch_size=BATCH_SIZE,\n",
    "                       shuffle=True, collate_fn=generate_test_batch)\n",
    "\n",
    "next(iter(test_iter))\n",
    "\n",
    "result = chat_evaluate(model, test_iter, criterion)\n",
    "print('Answer:', result)"
   ]
  },
  {
   "cell_type": "code",
   "execution_count": 130,
   "metadata": {},
   "outputs": [
    {
     "name": "stdout",
     "output_type": "stream",
     "text": [
      "                                             question           answers\n",
      "941  While in Berlin he saw the operatic work of who?  Gaspare Spontini\n",
      "Answer: ['Gaspare', 'Spontini', '<eos>']\n"
     ]
    }
   ],
   "source": [
    "pd.set_option('display.max_rows', None)\n",
    "dt_test = df_train.sample(n = 1)\n",
    "#dt_test\n",
    "dt_test_1 = dt_test.head(1)\n",
    "print(dt_test_1)\n",
    "test_data = data_process(dt_test_1)\n",
    "test_iter = DataLoader(test_data, batch_size=BATCH_SIZE,\n",
    "                       shuffle=True, collate_fn=generate_test_batch)\n",
    "\n",
    "next(iter(test_iter))\n",
    "\n",
    "result = chat_evaluate(model, test_iter, criterion)\n",
    "print('Answer:', result)"
   ]
  },
  {
   "cell_type": "code",
   "execution_count": 133,
   "metadata": {},
   "outputs": [
    {
     "name": "stdout",
     "output_type": "stream",
     "text": [
      "                                               question     answers\n",
      "1356  What was the name under scholarly publications...  Paderewski\n",
      "Answer: ['Paderewski', '<eos>']\n"
     ]
    }
   ],
   "source": [
    "pd.set_option('display.max_rows', None)\n",
    "dt_test = df_train.sample(n = 1)\n",
    "#dt_test\n",
    "dt_test_1 = dt_test.head(1)\n",
    "print(dt_test_1)\n",
    "test_data = data_process(dt_test_1)\n",
    "test_iter = DataLoader(test_data, batch_size=BATCH_SIZE,\n",
    "                       shuffle=True, collate_fn=generate_test_batch)\n",
    "\n",
    "next(iter(test_iter))\n",
    "\n",
    "result = chat_evaluate(model, test_iter, criterion)\n",
    "print('Answer:', result)"
   ]
  },
  {
   "cell_type": "code",
   "execution_count": 134,
   "metadata": {},
   "outputs": [
    {
     "name": "stdout",
     "output_type": "stream",
     "text": [
      "                                               question answers\n",
      "4530  What country is the leader in the implementati...   China\n",
      "Answer: ['Manhattan', '<eos>']\n"
     ]
    }
   ],
   "source": [
    "pd.set_option('display.max_rows', None)\n",
    "dt_test = df_train.sample(n = 1)\n",
    "#dt_test\n",
    "dt_test_1 = dt_test.head(1)\n",
    "print(dt_test_1)\n",
    "test_data = data_process(dt_test_1)\n",
    "test_iter = DataLoader(test_data, batch_size=BATCH_SIZE,\n",
    "                       shuffle=True, collate_fn=generate_test_batch)\n",
    "\n",
    "next(iter(test_iter))\n",
    "\n",
    "result = chat_evaluate(model, test_iter, criterion)\n",
    "print('Answer:', result)"
   ]
  },
  {
   "cell_type": "code",
   "execution_count": 137,
   "metadata": {},
   "outputs": [
    {
     "name": "stdout",
     "output_type": "stream",
     "text": [
      "                                       question       answers\n",
      "2947  What was the predicted time of the quake?  around May 8\n",
      "Answer: ['New', '<eos>', '<eos>', 'Week']\n"
     ]
    }
   ],
   "source": [
    "pd.set_option('display.max_rows', None)\n",
    "dt_test = df_train.sample(n = 1)\n",
    "#dt_test\n",
    "dt_test_1 = dt_test.head(1)\n",
    "print(dt_test_1)\n",
    "test_data = data_process(dt_test_1)\n",
    "test_iter = DataLoader(test_data, batch_size=BATCH_SIZE,\n",
    "                       shuffle=True, collate_fn=generate_test_batch)\n",
    "\n",
    "next(iter(test_iter))\n",
    "\n",
    "result = chat_evaluate(model, test_iter, criterion)\n",
    "print('Answer:', result)"
   ]
  },
  {
   "cell_type": "code",
   "execution_count": 138,
   "metadata": {},
   "outputs": [
    {
     "name": "stdout",
     "output_type": "stream",
     "text": [
      "                                               question       answers\n",
      "1917  What entity did Universal have a contract with...  iTunes Store\n",
      "Answer: ['iTunes', 'Store', '<eos>']\n"
     ]
    }
   ],
   "source": [
    "pd.set_option('display.max_rows', None)\n",
    "dt_test = df_train.sample(n = 1)\n",
    "#dt_test\n",
    "dt_test_1 = dt_test.head(1)\n",
    "print(dt_test_1)\n",
    "test_data = data_process(dt_test_1)\n",
    "test_iter = DataLoader(test_data, batch_size=BATCH_SIZE,\n",
    "                       shuffle=True, collate_fn=generate_test_batch)\n",
    "\n",
    "next(iter(test_iter))\n",
    "\n",
    "result = chat_evaluate(model, test_iter, criterion)\n",
    "print('Answer:', result)"
   ]
  },
  {
   "cell_type": "code",
   "execution_count": 145,
   "metadata": {},
   "outputs": [
    {
     "data": {
      "text/plain": [
       "'Reference:-  https://pytorch.org/tutorials/beginner/torchtext_translation_tutorial.html\\nhttps://a323d4c3b06f40ed9ea707b0af01e94b.udacity-student-workspaces.com/notebooks/seq2seq_translation_tutorial.ipynb\\nhttps://github.com/bentrevett/pytorch-seq2seq/blob/master/1%20-%20Sequence%20to%20Sequence%20Learning%20with%20Neural%20Networks.ipynb\\nSome methods are taken from this tutorial\\n\\n Only 5000 records are trained'"
      ]
     },
     "execution_count": 145,
     "metadata": {},
     "output_type": "execute_result"
    }
   ],
   "source": [
    "'''Reference:-  https://pytorch.org/tutorials/beginner/torchtext_translation_tutorial.html\n",
    "https://a323d4c3b06f40ed9ea707b0af01e94b.udacity-student-workspaces.com/notebooks/seq2seq_translation_tutorial.ipynb\n",
    "https://github.com/bentrevett/pytorch-seq2seq/blob/master/1%20-%20Sequence%20to%20Sequence%20Learning%20with%20Neural%20Networks.ipynb\n",
    "Some methods are taken from this tutorial\n",
    "\n",
    " Only 5000 records are trained'''\n",
    "\n"
   ]
  },
  {
   "cell_type": "code",
   "execution_count": null,
   "metadata": {},
   "outputs": [],
   "source": []
  }
 ],
 "metadata": {
  "colab": {
   "collapsed_sections": [],
   "name": "(Starter Code) LSTM Bot",
   "provenance": []
  },
  "kernelspec": {
   "display_name": "Python 3",
   "language": "python",
   "name": "python3"
  },
  "language_info": {
   "codemirror_mode": {
    "name": "ipython",
    "version": 3
   },
   "file_extension": ".py",
   "mimetype": "text/x-python",
   "name": "python",
   "nbconvert_exporter": "python",
   "pygments_lexer": "ipython3",
   "version": "3.7.6"
  }
 },
 "nbformat": 4,
 "nbformat_minor": 1
}
